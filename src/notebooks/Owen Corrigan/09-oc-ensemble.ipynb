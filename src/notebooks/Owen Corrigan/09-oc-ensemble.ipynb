{
 "cells": [
  {
   "cell_type": "code",
   "execution_count": null,
   "metadata": {},
   "outputs": [],
   "source": [
    "import pandas as pd\n",
    "from pathlib import Path\n",
    "import json\n",
    "\n",
    "from sklearn.ensemble import RandomForestRegressor"
   ]
  },
  {
   "cell_type": "code",
   "execution_count": null,
   "metadata": {},
   "outputs": [],
   "source": [
    "paths = list(Path('reports/experiments/').glob('**/*.csv'))\n",
    "paths[:5]"
   ]
  },
  {
   "cell_type": "code",
   "execution_count": null,
   "metadata": {},
   "outputs": [],
   "source": [
    "annotations = json.load(open('data/processed/annotations.json'))"
   ]
  },
  {
   "cell_type": "markdown",
   "metadata": {},
   "source": [
    "# short term predictions"
   ]
  },
  {
   "cell_type": "code",
   "execution_count": null,
   "metadata": {},
   "outputs": [],
   "source": [
    "short_paths = [i for i in paths if 'short-term/dev' in str(i)]\n",
    "short_paths"
   ]
  },
  {
   "cell_type": "code",
   "execution_count": null,
   "metadata": {},
   "outputs": [],
   "source": [
    "test_idx = pd.read_csv(short_paths[0], header=None)[0].values"
   ]
  },
  {
   "cell_type": "code",
   "execution_count": null,
   "metadata": {},
   "outputs": [],
   "source": [
    "preds = [pd.read_csv(path, header=None)[1] for path in short_paths]\n",
    "preds = pd.DataFrame(preds).T.assign(video=test_idx).set_index('video')"
   ]
  },
  {
   "cell_type": "code",
   "execution_count": null,
   "metadata": {},
   "outputs": [],
   "source": [
    "y = pd.read_csv('data/raw/Memorability 2018/dev-set/ground-truth/ground-truth_dev-set.csv').set_index('video')['short-term_memorability']\n",
    "y.head()"
   ]
  },
  {
   "cell_type": "code",
   "execution_count": null,
   "metadata": {},
   "outputs": [],
   "source": [
    "X_train = preds\n",
    "y_train = y.loc[annotations['dev-set']['test']]"
   ]
  },
  {
   "cell_type": "code",
   "execution_count": null,
   "metadata": {},
   "outputs": [],
   "source": [
    "clf = RandomForestRegressor()\n",
    "clf.fit(X_test, y_test)"
   ]
  },
  {
   "cell_type": "code",
   "execution_count": null,
   "metadata": {},
   "outputs": [],
   "source": [
    "sorted(short_paths)[:6]"
   ]
  },
  {
   "cell_type": "code",
   "execution_count": null,
   "metadata": {},
   "outputs": [],
   "source": [
    "short_paths = [i for i in paths if 'short-term/test' in str(i)]\n",
    "test = [pd.read_csv(path, header=None)[1] for path in sorted(short_paths)[:6]]\n",
    "test = pd.DataFrame(test).T\n",
    "test.head()"
   ]
  },
  {
   "cell_type": "code",
   "execution_count": null,
   "metadata": {},
   "outputs": [],
   "source": [
    "cols = ['video', 'score', 'confidence']\n",
    "results = pd.DataFrame(annotations['test-set']['test'], columns=['video'])\n",
    "results = (results.assign(score=clf.predict(test), confidence=1)\n",
    "                          .sort_values('video')[cols])"
   ]
  },
  {
   "cell_type": "code",
   "execution_count": null,
   "metadata": {},
   "outputs": [],
   "source": [
    "results.to_csv('reports/experiments/009-ensemble-short-term/test-set.csv', header=False, index=False)"
   ]
  },
  {
   "cell_type": "markdown",
   "metadata": {},
   "source": [
    "# Long term predictions"
   ]
  },
  {
   "cell_type": "code",
   "execution_count": null,
   "metadata": {},
   "outputs": [],
   "source": [
    "long_paths = [i for i in paths if 'long-term/dev' in str(i)]\n",
    "long_paths"
   ]
  },
  {
   "cell_type": "code",
   "execution_count": null,
   "metadata": {},
   "outputs": [],
   "source": [
    "test_idx = pd.read_csv(long_paths[0], header=None)[0].values"
   ]
  },
  {
   "cell_type": "code",
   "execution_count": null,
   "metadata": {},
   "outputs": [],
   "source": [
    "preds = [pd.read_csv(path, header=None)[1] for path in long_paths]\n",
    "preds = pd.DataFrame(preds).T.assign(video=test_idx).set_index('video')"
   ]
  },
  {
   "cell_type": "code",
   "execution_count": null,
   "metadata": {},
   "outputs": [],
   "source": [
    "y = pd.read_csv('data/raw/Memorability 2018/dev-set/ground-truth/ground-truth_dev-set.csv').set_index('video')['short-term_memorability']\n",
    "y.head()"
   ]
  },
  {
   "cell_type": "code",
   "execution_count": null,
   "metadata": {},
   "outputs": [],
   "source": [
    "X_train = preds\n",
    "y_train = y.loc[annotations['dev-set']['test']]"
   ]
  },
  {
   "cell_type": "code",
   "execution_count": null,
   "metadata": {},
   "outputs": [],
   "source": [
    "clf = RandomForestRegressor()\n",
    "clf.fit(X_test, y_test)"
   ]
  },
  {
   "cell_type": "code",
   "execution_count": null,
   "metadata": {},
   "outputs": [],
   "source": [
    "long_paths = [i for i in paths if 'long-term/test' in str(i)]\n",
    "test = [pd.read_csv(path, header=None)[1] for path in sorted(long_paths)[:6]]\n",
    "test = pd.DataFrame(test).T\n",
    "test.head()"
   ]
  },
  {
   "cell_type": "code",
   "execution_count": null,
   "metadata": {},
   "outputs": [],
   "source": [
    "test.shape"
   ]
  },
  {
   "cell_type": "code",
   "execution_count": null,
   "metadata": {},
   "outputs": [],
   "source": [
    "cols = ['video', 'score', 'confidence']\n",
    "results = pd.DataFrame(annotations['test-set']['test'], columns=['video'])\n",
    "results = (results.assign(score=clf.predict(test), confidence=1)\n",
    "                          .sort_values('video')[cols])"
   ]
  },
  {
   "cell_type": "code",
   "execution_count": null,
   "metadata": {},
   "outputs": [],
   "source": [
    "results.to_csv('reports/experiments/009-ensemble-long-term/test-set.csv', header=False, index=False)"
   ]
  }
 ],
 "metadata": {
  "kernelspec": {
   "display_name": "Python3 - memorability",
   "language": "python",
   "name": "py3-memorability"
  },
  "language_info": {
   "codemirror_mode": {
    "name": "ipython",
    "version": 3
   },
   "file_extension": ".py",
   "mimetype": "text/x-python",
   "name": "python",
   "nbconvert_exporter": "python",
   "pygments_lexer": "ipython3",
   "version": "3.5.2"
  }
 },
 "nbformat": 4,
 "nbformat_minor": 2
}
