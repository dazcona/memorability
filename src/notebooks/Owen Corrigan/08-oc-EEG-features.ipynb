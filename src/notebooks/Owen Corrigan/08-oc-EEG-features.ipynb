{
 "cells": [
  {
   "cell_type": "code",
   "execution_count": null,
   "metadata": {},
   "outputs": [],
   "source": [
    "import pandas as pd\n",
    "import json"
   ]
  },
  {
   "cell_type": "markdown",
   "metadata": {},
   "source": [
    "# EEG Features\n",
    "\n",
    "Extra layer of complexity, since these features were only extracted for a subset of the whole dataset"
   ]
  },
  {
   "cell_type": "code",
   "execution_count": null,
   "metadata": {},
   "outputs": [],
   "source": [
    "eeg = pd.read_csv('./data/external/eeg/dev-set/eeg.csv', header=None)\n",
    "eeg = (eeg.rename(columns={0: 'video', 1: 'vals'})\n",
    "        .sort_values('video'))\n",
    "eeg['video'] = eeg['video'] + '.webm'"
   ]
  },
  {
   "cell_type": "code",
   "execution_count": null,
   "metadata": {},
   "outputs": [],
   "source": [
    "eeg.head()"
   ]
  },
  {
   "cell_type": "code",
   "execution_count": null,
   "metadata": {},
   "outputs": [],
   "source": [
    "eeg.shape"
   ]
  },
  {
   "cell_type": "code",
   "execution_count": null,
   "metadata": {},
   "outputs": [],
   "source": [
    "annotations = json.load(open('data/processed/annotations.json'))"
   ]
  },
  {
   "cell_type": "code",
   "execution_count": null,
   "metadata": {},
   "outputs": [],
   "source": [
    "# are all videos in dev-set?\n",
    "eeg['video'].isin(annotations['dev-set']['all']).all()"
   ]
  },
  {
   "cell_type": "code",
   "execution_count": null,
   "metadata": {},
   "outputs": [],
   "source": [
    "# create new annotation mode, which filters dev-set to just those covered by eeg annotations\n",
    "\n",
    "eeg_train = [i for i in eeg['video'] if i in annotations['dev-set']['train']]\n",
    "eeg_test = [i for i in eeg['video'] if i in annotations['dev-set']['test']]\n",
    "eeg_val = [i for i in eeg['video'] if i in annotations['dev-set']['val']]\n",
    "eeg_all = annotations['dev-set']['all']\n",
    "\n",
    "annotations['eeg-set'] = {\n",
    "    'train': eeg_train,\n",
    "    'test': eeg_test,\n",
    "    'val': eeg_val,\n",
    "    'all': eeg_all\n",
    "}\n",
    "\n",
    "json.dump(annotations, open('data/processed/annotations.json', 'w'))"
   ]
  }
 ],
 "metadata": {
  "kernelspec": {
   "display_name": "Python3 - memorability",
   "language": "python",
   "name": "py3-memorability"
  },
  "language_info": {
   "codemirror_mode": {
    "name": "ipython",
    "version": 3
   },
   "file_extension": ".py",
   "mimetype": "text/x-python",
   "name": "python",
   "nbconvert_exporter": "python",
   "pygments_lexer": "ipython3",
   "version": "3.5.2"
  }
 },
 "nbformat": 4,
 "nbformat_minor": 2
}
