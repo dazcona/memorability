{
 "cells": [
  {
   "cell_type": "code",
   "execution_count": null,
   "metadata": {
    "collapsed": true
   },
   "outputs": [],
   "source": [
    "from pathlib import Path\n",
    "\n",
    "from tqdm import tqdm_notebook as tqdm"
   ]
  },
  {
   "cell_type": "code",
   "execution_count": null,
   "metadata": {
    "collapsed": true
   },
   "outputs": [],
   "source": [
    "%%time\n",
    "\n",
    "images_base = Path('../data/interim/images/dev-set')\n",
    "images_base.mkdir(parents=True, exist_ok=True)\n",
    "videos = sorted(Path('../data/raw/Memorability 2018/dev-set/sources').iterdir())\n",
    "times = ['00:00:00', '00:00:03.5', '00:00:06.958']\n",
    "frames = [0, 84, 168]\n",
    "output_file = 'out.png'\n",
    "\n",
    "for video in videos:\n",
    "    for time, frame in zip(times, frames):\n",
    "        output_file = '{}-{}.png'.format((images_base / video.stem), frame)\n",
    "        if not Path(output_file).exists():\n",
    "            ffmpeg_args = ['ffmpeg', '-ss', time, '-i', str(video), '-f', 'image2', '-vframes', '1', output_file, '-y']\n",
    "            result = subprocess.Popen(args=ffmpeg_args, stderr=subprocess.PIPE, stdout=subprocess.PIPE)\n",
    "            out, err = result.communicate()\n",
    "\n",
    "   input_file = './data/raw/Memorability 2018/dev-set/sources/video10.webm'         if result.returncode:\n",
    "                raise Exception(\"Non zero exit code\")"
   ]
  },
  {
   "cell_type": "code",
   "execution_count": null,
   "metadata": {
    "collapsed": true
   },
   "outputs": [],
   "source": [
    "%%time\n",
    "\n",
    "images_base = Path('./data/interim/test-set/images')\n",
    "images_base.mkdir(parents=True, exist_ok=True)\n",
    "videos = sorted(Path('./data/raw/Memorability 2018/test-set/sources').iterdir())\n",
    "times = ['00:00:00', '00:00:03.5', '00:00:06.958']\n",
    "frames = [0, 84, 168]\n",
    "output_file = 'out.png'\n",
    "\n",
    "for video in tqdm(videos):\n",
    "    for time, frame in zip(times, frames):\n",
    "        output_file = '{}-{}.png'.format((images_base / video.stem), frame)\n",
    "        if not Path(output_file).exists():\n",
    "            ffmpeg_args = ['ffmpeg', '-ss', time, '-i', str(video), '-f', 'image2', '-vframes', '1', output_file, '-y']\n",
    "            result = subprocess.Popen(args=ffmpeg_args, stderr=subprocess.PIPE, stdout=subprocess.PIPE)\n",
    "            out, err = result.communicate()\n",
    "\n",
    "            if result.returncode:\n",
    "                raise Exception(\"Non zero exit code\")"
   ]
  }
 ],
 "metadata": {
  "kernelspec": {
   "display_name": "Python 2",
   "language": "python",
   "name": "python2"
  },
  "language_info": {
   "codemirror_mode": {
    "name": "ipython",
    "version": 2
   },
   "file_extension": ".py",
   "mimetype": "text/x-python",
   "name": "python",
   "nbconvert_exporter": "python",
   "pygments_lexer": "ipython2",
   "version": "2.7.14"
  }
 },
 "nbformat": 4,
 "nbformat_minor": 2
}
