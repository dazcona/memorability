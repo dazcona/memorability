{
 "cells": [
  {
   "cell_type": "code",
   "execution_count": null,
   "metadata": {},
   "outputs": [],
   "source": [
    "import json\n",
    "import socket\n",
    "import time\n",
    "\n",
    "import click\n",
    "\n",
    "import pandas as pd\n",
    "import numpy as np\n",
    "import tensorflow as tf\n",
    "\n",
    "from tqdm import tqdm_notebook as tqdm\n",
    "\n",
    "from src.models import cli\n",
    "from src.models.inception_model import InceptionModel"
   ]
  },
  {
   "cell_type": "markdown",
   "metadata": {},
   "source": [
    "# Train Model From Notebook"
   ]
  },
  {
   "cell_type": "code",
   "execution_count": null,
   "metadata": {},
   "outputs": [],
   "source": [
    "experiment_number = 2\n",
    "experiment_name = \"blah\"\n",
    "batches = 1000\n",
    "report_step = 200\n",
    "disable_probress_bar = False\n",
    "max_train_time_seconds = None\n",
    "\n",
    "meta_folder = 'reports/experiments/{:03}-{}/'\n",
    "meta_folder = meta_folder.format(experiment_number,\n",
    "                                 experiment_name)"
   ]
  },
  {
   "cell_type": "code",
   "execution_count": null,
   "metadata": {},
   "outputs": [],
   "source": [
    "model = InceptionModel(batch_size=32, meta_folder=meta_folder, term='long-term')\n",
    "model.train(batches, report_step, disable_progress_bar=disable_probress_bar,\n",
    "                     max_train_time_seconds=max_train_time_seconds)\n",
    "model.eval()"
   ]
  },
  {
   "cell_type": "markdown",
   "metadata": {},
   "source": [
    "# Find Standard Deviation of Dummy Pearson R"
   ]
  },
  {
   "cell_type": "code",
   "execution_count": null,
   "metadata": {},
   "outputs": [],
   "source": [
    "predictions, ground_truth = model.predict(include_ground_truth=True)\n",
    "\n",
    "pearson_values = []\n",
    "for i in tqdm(range(1000)):\n",
    "    rand = np.random.random(size=len(ground_truth))\n",
    "    pearson_values += [pd.DataFrame([rand, ground_truth]).T.corr().iloc[1, 0]]\n",
    "pearson_values = np.array(pearson_values)\n",
    "print(pearson_values.mean())\n",
    "print(pearson_values.std())"
   ]
  }
 ],
 "metadata": {
  "kernelspec": {
   "display_name": "Python3 - memorability",
   "language": "python",
   "name": "py3-memorability"
  },
  "language_info": {
   "codemirror_mode": {
    "name": "ipython",
    "version": 3
   },
   "file_extension": ".py",
   "mimetype": "text/x-python",
   "name": "python",
   "nbconvert_exporter": "python",
   "pygments_lexer": "ipython3",
   "version": "3.5.2"
  }
 },
 "nbformat": 4,
 "nbformat_minor": 2
}
