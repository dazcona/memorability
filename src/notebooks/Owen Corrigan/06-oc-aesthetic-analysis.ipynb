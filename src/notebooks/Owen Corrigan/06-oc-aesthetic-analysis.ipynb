{
 "cells": [
  {
   "cell_type": "code",
   "execution_count": null,
   "metadata": {},
   "outputs": [],
   "source": [
    "import json\n",
    "import pickle\n",
    "\n",
    "import pandas as pd"
   ]
  },
  {
   "cell_type": "code",
   "execution_count": null,
   "metadata": {},
   "outputs": [],
   "source": [
    "# load aesthetic features\n",
    "aesthethic = pickle.load(open('./data/external/aesthetic/aesthetic_score.pkl', 'rb'))\n",
    "aesthethic = pd.DataFrame([(i, j[0]) for i, j in aesthethic])\n",
    "\n",
    "video = aesthethic[0].str.split('-').apply(lambda x: x[0]+'.webm')\n",
    "frame = aesthethic[0].str.split('-').apply(lambda x: int(x[1].split('.png')[0]))\n",
    "aesthethic['video'] = video\n",
    "aesthethic['frame'] = frame\n",
    "aesthethic = aesthethic.drop(0, axis=1).rename(columns={1: 'score'})\n",
    "aesthethic = pd.DataFrame(aesthethic.groupby('video')['score'].mean())\n",
    "\n",
    "aesthethic.head()"
   ]
  },
  {
   "cell_type": "code",
   "execution_count": null,
   "metadata": {},
   "outputs": [],
   "source": [
    "# combine with ground truth\n",
    "annotations = json.load(open('./data/processed/annotations.json'))\n",
    "test_annotations = aesthethic.loc[annotations['test']]\n",
    "\n",
    "ground_truth_file = './data/raw/Memorability 2018/dev-set/ground-truth/ground-truth_dev-set.csv'\n",
    "ground_truth = pd.read_csv(ground_truth_file).set_index('video').join(aesthethic)\n",
    "ground_truth.head()"
   ]
  },
  {
   "cell_type": "code",
   "execution_count": null,
   "metadata": {},
   "outputs": [],
   "source": [
    "cols = ['short-term_memorability', 'score'] \n",
    "spearman = ground_truth.loc[annotations['test']][cols].corr('spearman').iloc[0, 1]\n",
    "print(\"Spearman: {:.04}\".format(spearman))"
   ]
  }
 ],
 "metadata": {
  "kernelspec": {
   "display_name": "Python3 - memorability",
   "language": "python",
   "name": "py3-memorability"
  },
  "language_info": {
   "codemirror_mode": {
    "name": "ipython",
    "version": 3
   },
   "file_extension": ".py",
   "mimetype": "text/x-python",
   "name": "python",
   "nbconvert_exporter": "python",
   "pygments_lexer": "ipython3",
   "version": "3.5.2"
  }
 },
 "nbformat": 4,
 "nbformat_minor": 2
}
