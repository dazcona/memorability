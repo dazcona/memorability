{
 "cells": [
  {
   "cell_type": "code",
   "execution_count": null,
   "metadata": {},
   "outputs": [],
   "source": [
    "import json\n",
    "from pathlib import Path\n",
    "\n",
    "import numpy as np\n",
    "import pandas as pd\n",
    "\n",
    "from tqdm import tqdm_notebook as tqdm"
   ]
  },
  {
   "cell_type": "markdown",
   "metadata": {},
   "source": [
    "# Test, Val, Train Splits"
   ]
  },
  {
   "cell_type": "code",
   "execution_count": null,
   "metadata": {},
   "outputs": [],
   "source": [
    "dev_set = Path('data/raw/Memorability 2018/dev-set')\n",
    "test_set = Path('data/raw/Memorability 2018/test-set')"
   ]
  },
  {
   "cell_type": "code",
   "execution_count": null,
   "metadata": {},
   "outputs": [],
   "source": [
    "dev_videos = sorted((dev_set / 'sources').iterdir())\n",
    "dev_keys = [i.name for i in dev_videos]\n",
    "\n",
    "def choose_eval_status(train_ratio=0.5, val_ratio=0.25,\n",
    "                       test_ratio=0.25):\n",
    "    ratio_sum = train_ratio + val_ratio + test_ratio\n",
    "    assert np.isclose(ratio_sum, 1)\n",
    "    \n",
    "    probs = [train_ratio, val_ratio, test_ratio]\n",
    "    choices = ['train', 'val', 'test']\n",
    "    return np.random.choice(choices, p=probs)\n",
    "\n",
    "dev_annotations = {'train': [], 'val': [], 'test': []}\n",
    "for key in dev_keys:\n",
    "    dev_annotations[choose_eval_status()].append(key)"
   ]
  },
  {
   "cell_type": "code",
   "execution_count": null,
   "metadata": {},
   "outputs": [],
   "source": [
    "test_videos = sorted((test_set / 'sources').iterdir())\n",
    "test_keys = [i.name for i in test_videos]"
   ]
  },
  {
   "cell_type": "code",
   "execution_count": null,
   "metadata": {},
   "outputs": [],
   "source": [
    "annotations = {'dev-set': dev_annotations,\n",
    "               'test-set': {'test': test_keys}}\n",
    "json.dump(annotations, open('data/processed/annotations.json', 'w'))"
   ]
  },
  {
   "cell_type": "markdown",
   "metadata": {},
   "source": [
    "# Ground Truth\n",
    "\n",
    "Just remains the same"
   ]
  },
  {
   "cell_type": "markdown",
   "metadata": {},
   "source": [
    "# Inception Features"
   ]
  },
  {
   "cell_type": "code",
   "execution_count": null,
   "metadata": {},
   "outputs": [],
   "source": [
    "!mkdir -p data/processed/dev-set/\n",
    "!mkdir -p data/processed/test-set/"
   ]
  },
  {
   "cell_type": "code",
   "execution_count": null,
   "metadata": {},
   "outputs": [],
   "source": [
    "def parse_inception_feature(s):\n",
    "    pairs = s.strip().split(' ')\n",
    "    pairs = [i.split(':') for i in pairs]\n",
    "    return {int(k): float(v) for k, v in pairs}\n",
    "\n",
    "def expand_inception_feature(d):\n",
    "    feature = np.zeros(1000)\n",
    "    for k, v in d.items():\n",
    "        feature[k] = v\n",
    "    return feature\n",
    "\n",
    "# now combine two\n",
    "def parse_and_expand_inception_feature(path):\n",
    "    s = path.open('r').read()\n",
    "    feature = parse_inception_feature(s)\n",
    "    video, frame = path.name.split('-')\n",
    "    video += '.webm'\n",
    "    frame = int(frame.split('.')[0])\n",
    "    return [video, frame] + list(expand_inception_feature(feature))"
   ]
  },
  {
   "cell_type": "code",
   "execution_count": null,
   "metadata": {},
   "outputs": [],
   "source": [
    "dev_inception_files = dev_set / 'features/InceptionV3/'\n",
    "inception_features_flat = []\n",
    "for file in tqdm(sorted(dev_inception_files.iterdir())):\n",
    "    inception_features_flat += [parse_and_expand_inception_feature(file)]\n",
    "    \n",
    "inception_features_flat = pd.DataFrame(inception_features_flat).set_index([0, 1])\n",
    "\n",
    "inception_features_flat = (inception_features_flat\n",
    "                             .sort_index()\n",
    "                             .reset_index()\n",
    "                             .drop(columns=1)\n",
    "                             .reset_index(level=0, drop=True))\n",
    "\n",
    "inception_features_flat = inception_features_flat.rename(columns={0: 'video'}).rename(columns=str)\n",
    "\n",
    "inception_features_flat.to_feather('data/processed/dev-set/inception_features.feather', )"
   ]
  },
  {
   "cell_type": "code",
   "execution_count": null,
   "metadata": {},
   "outputs": [],
   "source": [
    "test_inception_files = test_set / 'features/InceptionV3/'\n",
    "inception_features_flat = []\n",
    "for file in tqdm(sorted(test_inception_files.iterdir())):\n",
    "    inception_features_flat += [parse_and_expand_inception_feature(file)]\n",
    "    \n",
    "inception_features_flat = pd.DataFrame(inception_features_flat).set_index([0, 1])\n",
    "\n",
    "inception_features_flat = (inception_features_flat\n",
    "                             .sort_index()\n",
    "                             .reset_index()\n",
    "                             .drop(columns=1)\n",
    "                             .reset_index(level=0, drop=True))\n",
    "\n",
    "inception_features_flat = inception_features_flat.rename(columns={0: 'video'}).rename(columns=str)\n",
    "\n",
    "inception_features_flat.to_feather('data/processed/test-set/inception_features.feather', )"
   ]
  }
 ],
 "metadata": {
  "kernelspec": {
   "display_name": "Python3 - memorability",
   "language": "python",
   "name": "py3-memorability"
  },
  "language_info": {
   "codemirror_mode": {
    "name": "ipython",
    "version": 3
   },
   "file_extension": ".py",
   "mimetype": "text/x-python",
   "name": "python",
   "nbconvert_exporter": "python",
   "pygments_lexer": "ipython3",
   "version": "3.5.2"
  }
 },
 "nbformat": 4,
 "nbformat_minor": 2
}
