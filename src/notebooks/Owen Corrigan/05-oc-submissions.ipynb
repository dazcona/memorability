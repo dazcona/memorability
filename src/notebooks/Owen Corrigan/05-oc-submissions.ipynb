{
 "cells": [
  {
   "cell_type": "code",
   "execution_count": null,
   "metadata": {
    "collapsed": true
   },
   "outputs": [],
   "source": [
    "import pandas as pd"
   ]
  },
  {
   "cell_type": "code",
   "execution_count": null,
   "metadata": {
    "collapsed": true
   },
   "outputs": [],
   "source": [
    "# load ground truth\n",
    "ground_truth_file = './data/raw/Memorability 2018/dev-set/ground-truth/ground-truth_dev-set.csv'\n",
    "ground_truth = pd.read_csv(ground_truth_file).set_index('video')\n",
    "short_term = ground_truth['short-term_memorability']\n",
    "long_term = ground_truth['long-term_memorability']"
   ]
  },
  {
   "cell_type": "code",
   "execution_count": null,
   "metadata": {
    "collapsed": true
   },
   "outputs": [],
   "source": [
    "# create videos\n",
    "captions = open('./data/raw/Memorability 2018/test-set/test-set_videos-captions.txt', 'r').read()\n",
    "videos = [i.split('\\t')[0] for i in captions.split('\\n')]\n",
    "results = pd.DataFrame(videos, columns=['video'])"
   ]
  },
  {
   "cell_type": "code",
   "execution_count": null,
   "metadata": {
    "collapsed": true
   },
   "outputs": [],
   "source": [
    "# \n",
    "cols = ['video', 'score', 'confidence']\n",
    "long_term_results = results.assign(score=long_term.mean(), confidence=0).sort_values('video')[cols]\n",
    "long_term_results.to_csv('./reports/me18n_insight@dcu_longterm_run1-mean.csv', header=False, index=False)"
   ]
  },
  {
   "cell_type": "code",
   "execution_count": null,
   "metadata": {
    "collapsed": true
   },
   "outputs": [],
   "source": [
    "short_term_results = results.assign(score=short_term.mean(), confidence=0).sort_values('video')[cols]\n",
    "short_term_results.head()\n",
    "short_term_results.to_csv('./reports/me18n_insight@dcu_shorterm_run1-mean.csv', header=False, index=False)"
   ]
  }
 ],
 "metadata": {
  "kernelspec": {
   "display_name": "Python 2",
   "language": "python",
   "name": "python2"
  },
  "language_info": {
   "codemirror_mode": {
    "name": "ipython",
    "version": 2
   },
   "file_extension": ".py",
   "mimetype": "text/x-python",
   "name": "python",
   "nbconvert_exporter": "python",
   "pygments_lexer": "ipython2",
   "version": "2.7.14"
  }
 },
 "nbformat": 4,
 "nbformat_minor": 2
}
