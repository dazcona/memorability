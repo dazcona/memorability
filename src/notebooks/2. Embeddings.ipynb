{
 "cells": [
  {
   "cell_type": "markdown",
   "metadata": {},
   "source": [
    "# Embeddings"
   ]
  },
  {
   "cell_type": "markdown",
   "metadata": {},
   "source": [
    "Import libraries:"
   ]
  },
  {
   "cell_type": "code",
   "execution_count": 1,
   "metadata": {},
   "outputs": [],
   "source": [
    "import os\n",
    "import numpy as np\n",
    "import pandas as pd\n",
    "import matplotlib.pyplot as plt\n",
    "%matplotlib inline"
   ]
  },
  {
   "cell_type": "markdown",
   "metadata": {},
   "source": [
    "Some Matplotlib configuration:"
   ]
  },
  {
   "cell_type": "code",
   "execution_count": 2,
   "metadata": {},
   "outputs": [],
   "source": [
    "font = { 'family': 'DejaVu Sans', 'weight': 'bold', 'size': 20 }\n",
    "plt.rc('font', **font)"
   ]
  },
  {
   "cell_type": "markdown",
   "metadata": {},
   "source": [
    "Import the config file which contains all the paths:"
   ]
  },
  {
   "cell_type": "code",
   "execution_count": 3,
   "metadata": {},
   "outputs": [],
   "source": [
    "import sys"
   ]
  },
  {
   "cell_type": "code",
   "execution_count": 4,
   "metadata": {},
   "outputs": [],
   "source": [
    "sys.path.append('..')"
   ]
  },
  {
   "cell_type": "code",
   "execution_count": 5,
   "metadata": {},
   "outputs": [],
   "source": [
    "import config"
   ]
  },
  {
   "cell_type": "markdown",
   "metadata": {},
   "source": [
    "Random seed:"
   ]
  },
  {
   "cell_type": "code",
   "execution_count": 6,
   "metadata": {},
   "outputs": [],
   "source": [
    "np.random.seed(42)"
   ]
  },
  {
   "cell_type": "markdown",
   "metadata": {},
   "source": [
    "**Captions**"
   ]
  },
  {
   "cell_type": "code",
   "execution_count": 7,
   "metadata": {},
   "outputs": [
    {
     "data": {
      "text/plain": [
       "'/datasets/dev-set/dev-set_video-captions.txt'"
      ]
     },
     "execution_count": 7,
     "metadata": {},
     "output_type": "execute_result"
    }
   ],
   "source": [
    "config.DEV_CAPTIONS"
   ]
  },
  {
   "cell_type": "code",
   "execution_count": 8,
   "metadata": {},
   "outputs": [],
   "source": [
    "dev_captions = pd.read_csv(config.DEV_CAPTIONS, sep = '\\t', header=None, names=['video', 'caption'] )"
   ]
  },
  {
   "cell_type": "code",
   "execution_count": 9,
   "metadata": {},
   "outputs": [
    {
     "data": {
      "text/plain": [
       "(8000, 2)"
      ]
     },
     "execution_count": 9,
     "metadata": {},
     "output_type": "execute_result"
    }
   ],
   "source": [
    "dev_captions.shape"
   ]
  },
  {
   "cell_type": "code",
   "execution_count": 10,
   "metadata": {},
   "outputs": [
    {
     "data": {
      "text/html": [
       "<div>\n",
       "<style scoped>\n",
       "    .dataframe tbody tr th:only-of-type {\n",
       "        vertical-align: middle;\n",
       "    }\n",
       "\n",
       "    .dataframe tbody tr th {\n",
       "        vertical-align: top;\n",
       "    }\n",
       "\n",
       "    .dataframe thead th {\n",
       "        text-align: right;\n",
       "    }\n",
       "</style>\n",
       "<table border=\"1\" class=\"dataframe\">\n",
       "  <thead>\n",
       "    <tr style=\"text-align: right;\">\n",
       "      <th></th>\n",
       "      <th>video</th>\n",
       "      <th>caption</th>\n",
       "    </tr>\n",
       "  </thead>\n",
       "  <tbody>\n",
       "    <tr>\n",
       "      <th>0</th>\n",
       "      <td>video10.webm</td>\n",
       "      <td>couple-relaxing-on-picnic-crane-shot</td>\n",
       "    </tr>\n",
       "    <tr>\n",
       "      <th>1</th>\n",
       "      <td>video100.webm</td>\n",
       "      <td>cute-black-and-white-cats-in-cage-at-animal-sh...</td>\n",
       "    </tr>\n",
       "    <tr>\n",
       "      <th>2</th>\n",
       "      <td>video10000.webm</td>\n",
       "      <td>owl-in-tree-close-up</td>\n",
       "    </tr>\n",
       "    <tr>\n",
       "      <th>3</th>\n",
       "      <td>video10001.webm</td>\n",
       "      <td>around-the-house-on-a-laptop</td>\n",
       "    </tr>\n",
       "    <tr>\n",
       "      <th>4</th>\n",
       "      <td>video10002.webm</td>\n",
       "      <td>beautiful-young-girl-with-apple</td>\n",
       "    </tr>\n",
       "  </tbody>\n",
       "</table>\n",
       "</div>"
      ],
      "text/plain": [
       "             video                                            caption\n",
       "0     video10.webm               couple-relaxing-on-picnic-crane-shot\n",
       "1    video100.webm  cute-black-and-white-cats-in-cage-at-animal-sh...\n",
       "2  video10000.webm                               owl-in-tree-close-up\n",
       "3  video10001.webm                       around-the-house-on-a-laptop\n",
       "4  video10002.webm                    beautiful-young-girl-with-apple"
      ]
     },
     "execution_count": 10,
     "metadata": {},
     "output_type": "execute_result"
    }
   ],
   "source": [
    "dev_captions.head()"
   ]
  },
  {
   "cell_type": "code",
   "execution_count": 11,
   "metadata": {},
   "outputs": [],
   "source": [
    "dev_captions[\"caption\"] = dev_captions[\"caption\"].str.split('-').apply(' '.join)"
   ]
  },
  {
   "cell_type": "code",
   "execution_count": 12,
   "metadata": {},
   "outputs": [
    {
     "data": {
      "text/plain": [
       "0                 couple relaxing on picnic crane shot\n",
       "1    cute black and white cats in cage at animal sh...\n",
       "2                                 owl in tree close up\n",
       "3                         around the house on a laptop\n",
       "4                      beautiful young girl with apple\n",
       "Name: caption, dtype: object"
      ]
     },
     "execution_count": 12,
     "metadata": {},
     "output_type": "execute_result"
    }
   ],
   "source": [
    "dev_captions[\"caption\"].head()"
   ]
  },
  {
   "cell_type": "markdown",
   "metadata": {},
   "source": [
    "**Groundtruth**"
   ]
  },
  {
   "cell_type": "code",
   "execution_count": 13,
   "metadata": {},
   "outputs": [],
   "source": [
    "dev_ground_truth = pd.read_csv(config.DEV_GROUNDTRUTH) "
   ]
  },
  {
   "cell_type": "markdown",
   "metadata": {},
   "source": [
    "Merging both datasets:"
   ]
  },
  {
   "cell_type": "code",
   "execution_count": 14,
   "metadata": {},
   "outputs": [],
   "source": [
    "dev_captions = dev_captions.merge(dev_ground_truth)"
   ]
  },
  {
   "cell_type": "code",
   "execution_count": 15,
   "metadata": {},
   "outputs": [
    {
     "data": {
      "text/html": [
       "<div>\n",
       "<style scoped>\n",
       "    .dataframe tbody tr th:only-of-type {\n",
       "        vertical-align: middle;\n",
       "    }\n",
       "\n",
       "    .dataframe tbody tr th {\n",
       "        vertical-align: top;\n",
       "    }\n",
       "\n",
       "    .dataframe thead th {\n",
       "        text-align: right;\n",
       "    }\n",
       "</style>\n",
       "<table border=\"1\" class=\"dataframe\">\n",
       "  <thead>\n",
       "    <tr style=\"text-align: right;\">\n",
       "      <th></th>\n",
       "      <th>video</th>\n",
       "      <th>caption</th>\n",
       "      <th>short-term_memorability</th>\n",
       "      <th>nb_short-term_annotations</th>\n",
       "      <th>long-term_memorability</th>\n",
       "      <th>nb_long-term_annotations</th>\n",
       "    </tr>\n",
       "  </thead>\n",
       "  <tbody>\n",
       "    <tr>\n",
       "      <th>0</th>\n",
       "      <td>video10.webm</td>\n",
       "      <td>couple relaxing on picnic crane shot</td>\n",
       "      <td>0.950</td>\n",
       "      <td>34</td>\n",
       "      <td>0.900</td>\n",
       "      <td>10</td>\n",
       "    </tr>\n",
       "    <tr>\n",
       "      <th>1</th>\n",
       "      <td>video100.webm</td>\n",
       "      <td>cute black and white cats in cage at animal sh...</td>\n",
       "      <td>0.951</td>\n",
       "      <td>33</td>\n",
       "      <td>0.889</td>\n",
       "      <td>9</td>\n",
       "    </tr>\n",
       "    <tr>\n",
       "      <th>2</th>\n",
       "      <td>video10000.webm</td>\n",
       "      <td>owl in tree close up</td>\n",
       "      <td>0.832</td>\n",
       "      <td>33</td>\n",
       "      <td>1.000</td>\n",
       "      <td>13</td>\n",
       "    </tr>\n",
       "    <tr>\n",
       "      <th>3</th>\n",
       "      <td>video10001.webm</td>\n",
       "      <td>around the house on a laptop</td>\n",
       "      <td>0.865</td>\n",
       "      <td>33</td>\n",
       "      <td>0.727</td>\n",
       "      <td>11</td>\n",
       "    </tr>\n",
       "    <tr>\n",
       "      <th>4</th>\n",
       "      <td>video10002.webm</td>\n",
       "      <td>beautiful young girl with apple</td>\n",
       "      <td>0.899</td>\n",
       "      <td>59</td>\n",
       "      <td>0.792</td>\n",
       "      <td>24</td>\n",
       "    </tr>\n",
       "  </tbody>\n",
       "</table>\n",
       "</div>"
      ],
      "text/plain": [
       "             video                                            caption  \\\n",
       "0     video10.webm               couple relaxing on picnic crane shot   \n",
       "1    video100.webm  cute black and white cats in cage at animal sh...   \n",
       "2  video10000.webm                               owl in tree close up   \n",
       "3  video10001.webm                       around the house on a laptop   \n",
       "4  video10002.webm                    beautiful young girl with apple   \n",
       "\n",
       "   short-term_memorability  nb_short-term_annotations  long-term_memorability  \\\n",
       "0                    0.950                         34                   0.900   \n",
       "1                    0.951                         33                   0.889   \n",
       "2                    0.832                         33                   1.000   \n",
       "3                    0.865                         33                   0.727   \n",
       "4                    0.899                         59                   0.792   \n",
       "\n",
       "   nb_long-term_annotations  \n",
       "0                        10  \n",
       "1                         9  \n",
       "2                        13  \n",
       "3                        11  \n",
       "4                        24  "
      ]
     },
     "execution_count": 15,
     "metadata": {},
     "output_type": "execute_result"
    }
   ],
   "source": [
    "dev_captions.head()"
   ]
  },
  {
   "cell_type": "code",
   "execution_count": 16,
   "metadata": {},
   "outputs": [],
   "source": [
    "captions = dev_captions[\"caption\"].tolist()"
   ]
  },
  {
   "cell_type": "code",
   "execution_count": 17,
   "metadata": {},
   "outputs": [],
   "source": [
    "caption_words = list(set([ word for caption in captions for word in caption.split() ]))"
   ]
  },
  {
   "cell_type": "code",
   "execution_count": 18,
   "metadata": {},
   "outputs": [
    {
     "data": {
      "text/plain": [
       "'5,874 words in the dev captions'"
      ]
     },
     "execution_count": 18,
     "metadata": {},
     "output_type": "execute_result"
    }
   ],
   "source": [
    "'{:,} words in the dev captions'.format(len(caption_words))"
   ]
  },
  {
   "cell_type": "code",
   "execution_count": 19,
   "metadata": {},
   "outputs": [
    {
     "data": {
      "text/plain": [
       "['multiracial', 'laughing', 'mazefield', 'straws', 'lined']"
      ]
     },
     "execution_count": 19,
     "metadata": {},
     "output_type": "execute_result"
    }
   ],
   "source": [
    "caption_words[:5]"
   ]
  },
  {
   "cell_type": "code",
   "execution_count": 20,
   "metadata": {},
   "outputs": [],
   "source": [
    "short_labels = dev_captions['short-term_memorability'].tolist()"
   ]
  },
  {
   "cell_type": "code",
   "execution_count": 21,
   "metadata": {},
   "outputs": [
    {
     "data": {
      "text/plain": [
       "[0.95, 0.951, 0.8320000000000001, 0.865, 0.899]"
      ]
     },
     "execution_count": 21,
     "metadata": {},
     "output_type": "execute_result"
    }
   ],
   "source": [
    "short_labels[:5]"
   ]
  },
  {
   "cell_type": "markdown",
   "metadata": {},
   "source": [
    "**Pre-trained embeddings**"
   ]
  },
  {
   "cell_type": "code",
   "execution_count": 22,
   "metadata": {},
   "outputs": [],
   "source": [
    "DATA_DIR = '../../data'\n",
    "GLOVE_FILE = 'glove.6B.100d.txt'"
   ]
  },
  {
   "cell_type": "code",
   "execution_count": 23,
   "metadata": {},
   "outputs": [
    {
     "data": {
      "text/plain": [
       "'../../data/glove.6B.100d.txt'"
      ]
     },
     "execution_count": 23,
     "metadata": {},
     "output_type": "execute_result"
    }
   ],
   "source": [
    "os.path.join(DATA_DIR,  GLOVE_FILE)"
   ]
  },
  {
   "cell_type": "code",
   "execution_count": 24,
   "metadata": {},
   "outputs": [
    {
     "name": "stdout",
     "output_type": "stream",
     "text": [
      "Indexing word vectors.\n"
     ]
    }
   ],
   "source": [
    "# first, build index mapping words in the embeddings set\n",
    "# to their embedding vector\n",
    "\n",
    "print('Indexing word vectors.')\n",
    "\n",
    "embeddings_index = {}\n",
    "with open(os.path.join(DATA_DIR, GLOVE_FILE)) as f:\n",
    "    for line in f:\n",
    "        word, coefs = line.split(maxsplit=1)\n",
    "        coefs = np.fromstring(coefs, 'f', sep=' ')\n",
    "        embeddings_index[word] = coefs"
   ]
  },
  {
   "cell_type": "code",
   "execution_count": 25,
   "metadata": {},
   "outputs": [
    {
     "name": "stdout",
     "output_type": "stream",
     "text": [
      "Found 5446 word vectors.\n"
     ]
    }
   ],
   "source": [
    "print('Found %s word vectors.' % len(embeddings_index))"
   ]
  },
  {
   "cell_type": "code",
   "execution_count": 26,
   "metadata": {},
   "outputs": [],
   "source": [
    "words = list(embeddings_index.keys())"
   ]
  },
  {
   "cell_type": "code",
   "execution_count": 27,
   "metadata": {},
   "outputs": [],
   "source": [
    "vectors = list(embeddings_index.values())"
   ]
  },
  {
   "cell_type": "code",
   "execution_count": 28,
   "metadata": {},
   "outputs": [],
   "source": [
    "from sklearn.decomposition import PCA\n",
    "\n",
    "def get_pca(vectors):\n",
    "\n",
    "    # PCA\n",
    "    pca = PCA(n_components=2)\n",
    "    principal_components = pca.fit_transform(vectors)\n",
    "    print('PCA explained variance ratio:', pca.explained_variance_ratio_, \n",
    "          'Total:', sum(pca.explained_variance_ratio_))\n",
    "    return principal_components"
   ]
  },
  {
   "cell_type": "code",
   "execution_count": 29,
   "metadata": {
    "scrolled": false
   },
   "outputs": [
    {
     "name": "stdout",
     "output_type": "stream",
     "text": [
      "PCA explained variance ratio: [0.09785616 0.03638099] Total: 0.13423715615186022\n"
     ]
    }
   ],
   "source": [
    "pca_vectors = get_pca(vectors)"
   ]
  },
  {
   "cell_type": "code",
   "execution_count": 30,
   "metadata": {},
   "outputs": [
    {
     "data": {
      "image/png": "[encoded data removed]",
      "text/plain": [
       "<Figure size 1296x1296 with 1 Axes>"
      ]
     },
     "metadata": {},
     "output_type": "display_data"
    }
   ],
   "source": [
    "N = 50\n",
    "\n",
    "plt.figure(figsize=(18, 18))\n",
    "ax = plt.axes()\n",
    "ax.yaxis.set_major_locator(plt.NullLocator())\n",
    "ax.xaxis.set_major_locator(plt.NullLocator())\n",
    "i = 0\n",
    "while i < len(pca_vectors[:N]):\n",
    "    # Vector\n",
    "    x, y = pca_vectors[i, :]\n",
    "    # Word\n",
    "    word = words[i]\n",
    "    # Plot\n",
    "    plt.scatter(x, y, color='b')\n",
    "    plt.annotate(word,\n",
    "                xy=(x, y),\n",
    "                xytext=(5, 2),\n",
    "                textcoords='offset points',\n",
    "                ha='right',\n",
    "                va='bottom',\n",
    "                fontsize=14)\n",
    "    i += 1\n",
    "\n",
    "plt.savefig('../../figures/GloVe_PCA_Top_50.png')"
   ]
  },
  {
   "cell_type": "markdown",
   "metadata": {},
   "source": [
    "**Modelling**"
   ]
  },
  {
   "cell_type": "code",
   "execution_count": 31,
   "metadata": {},
   "outputs": [
    {
     "name": "stderr",
     "output_type": "stream",
     "text": [
      "Using TensorFlow backend.\n"
     ]
    }
   ],
   "source": [
    "from keras.preprocessing.text import Tokenizer\n",
    "from keras.preprocessing.sequence import pad_sequences"
   ]
  },
  {
   "cell_type": "code",
   "execution_count": 32,
   "metadata": {},
   "outputs": [],
   "source": [
    "# finally, vectorize the text samples into a 2D integer tensor\n",
    "tokenizer = Tokenizer()\n",
    "tokenizer.fit_on_texts(captions)"
   ]
  },
  {
   "cell_type": "code",
   "execution_count": 33,
   "metadata": {},
   "outputs": [
    {
     "data": {
      "text/plain": [
       "1"
      ]
     },
     "execution_count": 33,
     "metadata": {},
     "output_type": "execute_result"
    }
   ],
   "source": [
    "tokenizer.word_index['in']"
   ]
  },
  {
   "cell_type": "code",
   "execution_count": 34,
   "metadata": {},
   "outputs": [],
   "source": [
    "sequences = tokenizer.texts_to_sequences(captions)"
   ]
  },
  {
   "cell_type": "code",
   "execution_count": 35,
   "metadata": {},
   "outputs": [
    {
     "data": {
      "text/plain": [
       "'couple relaxing on picnic crane shot'"
      ]
     },
     "execution_count": 35,
     "metadata": {},
     "output_type": "execute_result"
    }
   ],
   "source": [
    "captions[0]"
   ]
  },
  {
   "cell_type": "code",
   "execution_count": 36,
   "metadata": {},
   "outputs": [
    {
     "data": {
      "text/plain": [
       "[15, 117, 3, 597, 347, 25]"
      ]
     },
     "execution_count": 36,
     "metadata": {},
     "output_type": "execute_result"
    }
   ],
   "source": [
    "sequences[0]"
   ]
  },
  {
   "cell_type": "code",
   "execution_count": 37,
   "metadata": {},
   "outputs": [
    {
     "name": "stdout",
     "output_type": "stream",
     "text": [
      "Found 5874 unique tokens.\n"
     ]
    }
   ],
   "source": [
    "word_index = tokenizer.word_index\n",
    "print('Found %s unique tokens.' % len(word_index))"
   ]
  },
  {
   "cell_type": "code",
   "execution_count": 38,
   "metadata": {},
   "outputs": [],
   "source": [
    "MAX_NUM_WORDS = len(word_index)"
   ]
  },
  {
   "cell_type": "code",
   "execution_count": 39,
   "metadata": {},
   "outputs": [
    {
     "data": {
      "text/plain": [
       "37"
      ]
     },
     "execution_count": 39,
     "metadata": {},
     "output_type": "execute_result"
    }
   ],
   "source": [
    "MAX_SEQUENCE_LENGTH = max([ len(caption.split()) for caption in captions ])\n",
    "MAX_SEQUENCE_LENGTH"
   ]
  },
  {
   "cell_type": "code",
   "execution_count": 40,
   "metadata": {},
   "outputs": [],
   "source": [
    "X = pad_sequences(sequences, maxlen=MAX_SEQUENCE_LENGTH)"
   ]
  },
  {
   "cell_type": "code",
   "execution_count": 41,
   "metadata": {},
   "outputs": [
    {
     "name": "stdout",
     "output_type": "stream",
     "text": [
      "Shape of data tensor: (8000, 37)\n"
     ]
    }
   ],
   "source": [
    "print('Shape of data tensor:', X.shape)"
   ]
  },
  {
   "cell_type": "code",
   "execution_count": 42,
   "metadata": {},
   "outputs": [],
   "source": [
    "Y = np.array(short_labels)"
   ]
  },
  {
   "cell_type": "code",
   "execution_count": 43,
   "metadata": {},
   "outputs": [
    {
     "name": "stdout",
     "output_type": "stream",
     "text": [
      "Len of label tensor: (8000,)\n"
     ]
    }
   ],
   "source": [
    "print('Len of label tensor:', Y.shape)"
   ]
  },
  {
   "cell_type": "code",
   "execution_count": 44,
   "metadata": {},
   "outputs": [
    {
     "name": "stdout",
     "output_type": "stream",
     "text": [
      "[INFO] Splitting data between train (70%), validation (20%) and test (10%) sets...\n"
     ]
    }
   ],
   "source": [
    "from sklearn.model_selection import train_test_split\n",
    "\n",
    "print('[INFO] Splitting data between train (70%), validation (20%) and test (10%) sets...')\n",
    "\n",
    "X_train, X_val_test, y_train, y_val_test = train_test_split(\n",
    "    X,\n",
    "    Y,\n",
    "    test_size=0.2,\n",
    "    random_state=42)\n",
    "\n",
    "X_val, X_test, y_val, y_test = train_test_split(\n",
    "    X_val_test,\n",
    "    y_val_test,\n",
    "    test_size=1./3,\n",
    "    random_state=42)"
   ]
  },
  {
   "cell_type": "code",
   "execution_count": 45,
   "metadata": {},
   "outputs": [
    {
     "data": {
      "text/plain": [
       "((6400, 37), (1066, 37), (534, 37))"
      ]
     },
     "execution_count": 45,
     "metadata": {},
     "output_type": "execute_result"
    }
   ],
   "source": [
    "X_train.shape, X_val.shape, X_test.shape"
   ]
  },
  {
   "cell_type": "code",
   "execution_count": 46,
   "metadata": {},
   "outputs": [
    {
     "data": {
      "text/plain": [
       "((6400,), (1066,), (534,))"
      ]
     },
     "execution_count": 46,
     "metadata": {},
     "output_type": "execute_result"
    }
   ],
   "source": [
    "y_train.shape, y_val.shape, y_test.shape"
   ]
  },
  {
   "cell_type": "code",
   "execution_count": 47,
   "metadata": {},
   "outputs": [],
   "source": [
    "EMBEDDING_DIM = 100"
   ]
  },
  {
   "cell_type": "code",
   "execution_count": 48,
   "metadata": {},
   "outputs": [],
   "source": [
    "# prepare embedding matrix\n",
    "num_words = min(MAX_NUM_WORDS, len(word_index)) + 1\n",
    "embedding_matrix = np.zeros((num_words, EMBEDDING_DIM))\n",
    "for word, i in word_index.items():\n",
    "    if i > MAX_NUM_WORDS:\n",
    "        continue\n",
    "    embedding_vector = embeddings_index.get(word)\n",
    "    if embedding_vector is not None:\n",
    "        # words not found in embedding index will be all-zeros.\n",
    "        embedding_matrix[i] = embedding_vector"
   ]
  },
  {
   "cell_type": "code",
   "execution_count": 49,
   "metadata": {},
   "outputs": [],
   "source": [
    "from keras.utils import to_categorical\n",
    "from keras.layers import Dense, Input, GlobalMaxPooling1D\n",
    "from keras.layers import Conv1D, MaxPooling1D, Embedding, Flatten, GRU\n",
    "from keras.models import Model\n",
    "from keras.initializers import Constant"
   ]
  },
  {
   "cell_type": "code",
   "execution_count": 50,
   "metadata": {},
   "outputs": [],
   "source": [
    "# load pre-trained word embeddings into an Embedding layer\n",
    "# note that we set trainable = False so as to keep the embeddings fixed\n",
    "embedding_layer = Embedding(num_words,\n",
    "                            EMBEDDING_DIM,\n",
    "                            embeddings_initializer=Constant(embedding_matrix),\n",
    "                            input_length=MAX_SEQUENCE_LENGTH,\n",
    "                            trainable=False)"
   ]
  },
  {
   "cell_type": "code",
   "execution_count": 51,
   "metadata": {
    "scrolled": true
   },
   "outputs": [
    {
     "name": "stdout",
     "output_type": "stream",
     "text": [
      "Training model.\n",
      "WARNING:tensorflow:From /usr/local/lib/python3.7/site-packages/tensorflow/python/framework/op_def_library.py:263: colocate_with (from tensorflow.python.framework.ops) is deprecated and will be removed in a future version.\n",
      "Instructions for updating:\n",
      "Colocations handled automatically by placer.\n",
      "WARNING:tensorflow:From /usr/local/lib/python3.7/site-packages/keras/backend/tensorflow_backend.py:3445: calling dropout (from tensorflow.python.ops.nn_ops) with keep_prob is deprecated and will be removed in a future version.\n",
      "Instructions for updating:\n",
      "Please use `rate` instead of `keep_prob`. Rate should be set to `rate = 1 - keep_prob`.\n"
     ]
    }
   ],
   "source": [
    "print('Training model.')\n",
    "\n",
    "sequence_input = Input(shape=(MAX_SEQUENCE_LENGTH,), dtype='int32')\n",
    "embedded_sequences = embedding_layer(sequence_input)\n",
    "x = GRU(units=32, dropout=0.2, recurrent_dropout=0.2)(embedded_sequences)\n",
    "preds = Dense(1, activation='sigmoid')(x)"
   ]
  },
  {
   "cell_type": "code",
   "execution_count": 52,
   "metadata": {},
   "outputs": [],
   "source": [
    "model = Model(sequence_input, preds)"
   ]
  },
  {
   "cell_type": "code",
   "execution_count": 53,
   "metadata": {},
   "outputs": [
    {
     "name": "stdout",
     "output_type": "stream",
     "text": [
      "_________________________________________________________________\n",
      "Layer (type)                 Output Shape              Param #   \n",
      "=================================================================\n",
      "input_1 (InputLayer)         (None, 37)                0         \n",
      "_________________________________________________________________\n",
      "embedding_1 (Embedding)      (None, 37, 100)           587500    \n",
      "_________________________________________________________________\n",
      "gru_1 (GRU)                  (None, 32)                12768     \n",
      "_________________________________________________________________\n",
      "dense_1 (Dense)              (None, 1)                 33        \n",
      "=================================================================\n",
      "Total params: 600,301\n",
      "Trainable params: 12,801\n",
      "Non-trainable params: 587,500\n",
      "_________________________________________________________________\n"
     ]
    }
   ],
   "source": [
    "model.summary()"
   ]
  },
  {
   "cell_type": "code",
   "execution_count": 54,
   "metadata": {},
   "outputs": [],
   "source": [
    "from keras.optimizers import Adam\n",
    "\n",
    "opt = Adam(lr=1e-3, decay=1e-3 / 200)"
   ]
  },
  {
   "cell_type": "code",
   "execution_count": 55,
   "metadata": {},
   "outputs": [],
   "source": [
    "model.compile(loss='mean_absolute_error',\n",
    "              optimizer=opt, \n",
    "              metrics=['mean_squared_error'])"
   ]
  },
  {
   "cell_type": "code",
   "execution_count": 56,
   "metadata": {
    "scrolled": false
   },
   "outputs": [
    {
     "name": "stdout",
     "output_type": "stream",
     "text": [
      "WARNING:tensorflow:From /usr/local/lib/python3.7/site-packages/tensorflow/python/ops/math_ops.py:3066: to_int32 (from tensorflow.python.ops.math_ops) is deprecated and will be removed in a future version.\n",
      "Instructions for updating:\n",
      "Use tf.cast instead.\n",
      "Train on 6400 samples, validate on 1066 samples\n",
      "Epoch 1/30\n",
      "6400/6400 [==============================] - 5s 793us/step - loss: 0.0897 - mean_squared_error: 0.0163 - val_loss: 0.0664 - val_mean_squared_error: 0.0076\n",
      "Epoch 2/30\n",
      "6400/6400 [==============================] - 4s 664us/step - loss: 0.0618 - mean_squared_error: 0.0066 - val_loss: 0.0618 - val_mean_squared_error: 0.0065\n",
      "Epoch 3/30\n",
      "6400/6400 [==============================] - 4s 677us/step - loss: 0.0589 - mean_squared_error: 0.0059 - val_loss: 0.0601 - val_mean_squared_error: 0.0060\n",
      "Epoch 4/30\n",
      "6400/6400 [==============================] - 4s 692us/step - loss: 0.0577 - mean_squared_error: 0.0057 - val_loss: 0.0592 - val_mean_squared_error: 0.0058\n",
      "Epoch 5/30\n",
      "6400/6400 [==============================] - 4s 674us/step - loss: 0.0568 - mean_squared_error: 0.0055 - val_loss: 0.0591 - val_mean_squared_error: 0.0058\n",
      "Epoch 6/30\n",
      "6400/6400 [==============================] - 4s 679us/step - loss: 0.0561 - mean_squared_error: 0.0054 - val_loss: 0.0582 - val_mean_squared_error: 0.0056\n",
      "Epoch 7/30\n",
      "6400/6400 [==============================] - 4s 665us/step - loss: 0.0555 - mean_squared_error: 0.0053 - val_loss: 0.0586 - val_mean_squared_error: 0.0057\n",
      "Epoch 8/30\n",
      "6400/6400 [==============================] - 4s 651us/step - loss: 0.0550 - mean_squared_error: 0.0052 - val_loss: 0.0585 - val_mean_squared_error: 0.0057\n",
      "Epoch 9/30\n",
      "6400/6400 [==============================] - 4s 657us/step - loss: 0.0542 - mean_squared_error: 0.0051 - val_loss: 0.0581 - val_mean_squared_error: 0.0056\n",
      "Epoch 10/30\n",
      "6400/6400 [==============================] - 4s 669us/step - loss: 0.0540 - mean_squared_error: 0.0050 - val_loss: 0.0581 - val_mean_squared_error: 0.0056\n",
      "Epoch 11/30\n",
      "6400/6400 [==============================] - 4s 662us/step - loss: 0.0536 - mean_squared_error: 0.0050 - val_loss: 0.0591 - val_mean_squared_error: 0.0059\n",
      "Epoch 12/30\n",
      "6400/6400 [==============================] - 4s 661us/step - loss: 0.0533 - mean_squared_error: 0.0049 - val_loss: 0.0584 - val_mean_squared_error: 0.0057\n",
      "Epoch 13/30\n",
      "6400/6400 [==============================] - 6s 891us/step - loss: 0.0532 - mean_squared_error: 0.0049 - val_loss: 0.0581 - val_mean_squared_error: 0.0057\n",
      "Epoch 14/30\n",
      "6400/6400 [==============================] - 7s 1ms/step - loss: 0.0527 - mean_squared_error: 0.0048 - val_loss: 0.0578 - val_mean_squared_error: 0.0056\n",
      "Epoch 15/30\n",
      "6400/6400 [==============================] - 5s 764us/step - loss: 0.0524 - mean_squared_error: 0.0048 - val_loss: 0.0581 - val_mean_squared_error: 0.0057\n",
      "Epoch 16/30\n",
      "6400/6400 [==============================] - 5s 827us/step - loss: 0.0522 - mean_squared_error: 0.0048 - val_loss: 0.0577 - val_mean_squared_error: 0.0055\n",
      "Epoch 17/30\n",
      "6400/6400 [==============================] - 5s 807us/step - loss: 0.0516 - mean_squared_error: 0.0047 - val_loss: 0.0575 - val_mean_squared_error: 0.0055\n",
      "Epoch 18/30\n",
      "6400/6400 [==============================] - 5s 789us/step - loss: 0.0513 - mean_squared_error: 0.0047 - val_loss: 0.0581 - val_mean_squared_error: 0.0057\n",
      "Epoch 19/30\n",
      "6400/6400 [==============================] - 5s 754us/step - loss: 0.0511 - mean_squared_error: 0.0047 - val_loss: 0.0579 - val_mean_squared_error: 0.0056\n",
      "Epoch 20/30\n",
      "6400/6400 [==============================] - 4s 680us/step - loss: 0.0508 - mean_squared_error: 0.0046 - val_loss: 0.0588 - val_mean_squared_error: 0.0059\n",
      "Epoch 21/30\n",
      "6400/6400 [==============================] - 5s 817us/step - loss: 0.0507 - mean_squared_error: 0.0046 - val_loss: 0.0584 - val_mean_squared_error: 0.0057\n",
      "Epoch 22/30\n",
      "6400/6400 [==============================] - 5s 745us/step - loss: 0.0501 - mean_squared_error: 0.0045 - val_loss: 0.0582 - val_mean_squared_error: 0.0057\n",
      "Epoch 23/30\n",
      "6400/6400 [==============================] - 5s 707us/step - loss: 0.0500 - mean_squared_error: 0.0045 - val_loss: 0.0582 - val_mean_squared_error: 0.0057\n",
      "Epoch 24/30\n",
      "6400/6400 [==============================] - 4s 666us/step - loss: 0.0497 - mean_squared_error: 0.0044 - val_loss: 0.0587 - val_mean_squared_error: 0.0058\n",
      "Epoch 25/30\n",
      "6400/6400 [==============================] - 5s 753us/step - loss: 0.0497 - mean_squared_error: 0.0044 - val_loss: 0.0588 - val_mean_squared_error: 0.0058\n",
      "Epoch 26/30\n",
      "6400/6400 [==============================] - 5s 758us/step - loss: 0.0493 - mean_squared_error: 0.0044 - val_loss: 0.0583 - val_mean_squared_error: 0.0057\n",
      "Epoch 27/30\n",
      "6400/6400 [==============================] - 5s 847us/step - loss: 0.0490 - mean_squared_error: 0.0043 - val_loss: 0.0589 - val_mean_squared_error: 0.0059\n",
      "Epoch 28/30\n",
      "6400/6400 [==============================] - 5s 726us/step - loss: 0.0488 - mean_squared_error: 0.0043 - val_loss: 0.0586 - val_mean_squared_error: 0.0058\n",
      "Epoch 29/30\n",
      "6400/6400 [==============================] - 6s 873us/step - loss: 0.0486 - mean_squared_error: 0.0043 - val_loss: 0.0590 - val_mean_squared_error: 0.0059\n",
      "Epoch 30/30\n",
      "6400/6400 [==============================] - 5s 791us/step - loss: 0.0485 - mean_squared_error: 0.0043 - val_loss: 0.0587 - val_mean_squared_error: 0.0058\n"
     ]
    },
    {
     "data": {
      "text/plain": [
       "<keras.callbacks.History at 0x7f2726faba58>"
      ]
     },
     "execution_count": 56,
     "metadata": {},
     "output_type": "execute_result"
    }
   ],
   "source": [
    "model.fit(X_train, y_train,\n",
    "          validation_data=(X_val, y_val),\n",
    "          epochs=30, \n",
    "          shuffle=False,\n",
    ")"
   ]
  },
  {
   "cell_type": "code",
   "execution_count": 57,
   "metadata": {},
   "outputs": [],
   "source": [
    "preds = model.predict(X_test)"
   ]
  },
  {
   "cell_type": "code",
   "execution_count": 58,
   "metadata": {
    "scrolled": false
   },
   "outputs": [],
   "source": [
    "# preds.flatten()"
   ]
  },
  {
   "cell_type": "code",
   "execution_count": 59,
   "metadata": {},
   "outputs": [],
   "source": [
    "from scipy.stats import spearmanr"
   ]
  },
  {
   "cell_type": "code",
   "execution_count": 60,
   "metadata": {},
   "outputs": [
    {
     "data": {
      "text/plain": [
       "SpearmanrResult(correlation=0.42775131884062756, pvalue=3.6238515708131418e-25)"
      ]
     },
     "execution_count": 60,
     "metadata": {},
     "output_type": "execute_result"
    }
   ],
   "source": [
    "spearmanr(y_test, preds)"
   ]
  }
 ],
 "metadata": {
  "kernelspec": {
   "display_name": "Python 3",
   "language": "python",
   "name": "python3"
  },
  "language_info": {
   "codemirror_mode": {
    "name": "ipython",
    "version": 3
   },
   "file_extension": ".py",
   "mimetype": "text/x-python",
   "name": "python",
   "nbconvert_exporter": "python",
   "pygments_lexer": "ipython3",
   "version": "3.7.2"
  }
 },
 "nbformat": 4,
 "nbformat_minor": 2
}
