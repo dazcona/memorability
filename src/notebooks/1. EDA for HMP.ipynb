{
 "cells": [
  {
   "cell_type": "markdown",
   "metadata": {},
   "source": [
    "# Exploratory Data Analysis for HMP (histogram of motion patterns)"
   ]
  },
  {
   "cell_type": "markdown",
   "metadata": {},
   "source": [
    "Import libraries:"
   ]
  },
  {
   "cell_type": "code",
   "execution_count": 1,
   "metadata": {},
   "outputs": [],
   "source": [
    "import os\n",
    "import pandas as pd\n",
    "import numpy as np\n",
    "import matplotlib.pyplot as plt\n",
    "%matplotlib inline"
   ]
  },
  {
   "cell_type": "markdown",
   "metadata": {},
   "source": [
    "Some Matplotlib configuration:"
   ]
  },
  {
   "cell_type": "code",
   "execution_count": 2,
   "metadata": {},
   "outputs": [],
   "source": [
    "font = { 'family': 'DejaVu Sans', 'weight': 'bold', 'size': 22 }\n",
    "plt.rc('font', **font)"
   ]
  },
  {
   "cell_type": "markdown",
   "metadata": {},
   "source": [
    "Import the config file which contains all the paths:"
   ]
  },
  {
   "cell_type": "code",
   "execution_count": 3,
   "metadata": {},
   "outputs": [],
   "source": [
    "import sys"
   ]
  },
  {
   "cell_type": "code",
   "execution_count": 4,
   "metadata": {},
   "outputs": [],
   "source": [
    "sys.path.append('..')"
   ]
  },
  {
   "cell_type": "code",
   "execution_count": 5,
   "metadata": {},
   "outputs": [],
   "source": [
    "import config"
   ]
  },
  {
   "cell_type": "markdown",
   "metadata": {},
   "source": [
    "**HMP Features**"
   ]
  },
  {
   "cell_type": "code",
   "execution_count": 6,
   "metadata": {},
   "outputs": [
    {
     "data": {
      "text/plain": [
       "'/datasets/devset/dev-set/features'"
      ]
     },
     "execution_count": 6,
     "metadata": {},
     "output_type": "execute_result"
    }
   ],
   "source": [
    "config.DEV_FEATURES"
   ]
  },
  {
   "cell_type": "code",
   "execution_count": 7,
   "metadata": {},
   "outputs": [
    {
     "data": {
      "text/plain": [
       "'/datasets/devset/dev-set/features/HMP'"
      ]
     },
     "execution_count": 7,
     "metadata": {},
     "output_type": "execute_result"
    }
   ],
   "source": [
    "config.DEV_HMP_FEATURE"
   ]
  },
  {
   "cell_type": "code",
   "execution_count": 8,
   "metadata": {},
   "outputs": [],
   "source": [
    "HMP_FILENAMES = os.listdir(config.DEV_HMP_FEATURE)"
   ]
  },
  {
   "cell_type": "code",
   "execution_count": 9,
   "metadata": {},
   "outputs": [
    {
     "data": {
      "text/plain": [
       "['video8181.txt',\n",
       " 'video1217.txt',\n",
       " 'video385.txt',\n",
       " 'video9142.txt',\n",
       " 'video6804.txt']"
      ]
     },
     "execution_count": 9,
     "metadata": {},
     "output_type": "execute_result"
    }
   ],
   "source": [
    "HMP_FILENAMES[:5]"
   ]
  },
  {
   "cell_type": "code",
   "execution_count": 10,
   "metadata": {},
   "outputs": [
    {
     "data": {
      "text/plain": [
       "'8,000'"
      ]
     },
     "execution_count": 10,
     "metadata": {},
     "output_type": "execute_result"
    }
   ],
   "source": [
    "'{:,}'.format(len(HMP_FILENAMES))"
   ]
  },
  {
   "cell_type": "code",
   "execution_count": 12,
   "metadata": {},
   "outputs": [],
   "source": [
    "def read_features(filename):\n",
    "    with open(filename) as f:\n",
    "        return { \n",
    "            'HMP_{}'.format(feature.split(':')[0]) : float(feature.split(':')[1]) \n",
    "            for feature in f.read().split() \n",
    "        }"
   ]
  },
  {
   "cell_type": "code",
   "execution_count": 13,
   "metadata": {},
   "outputs": [],
   "source": [
    "# filename = os.path.join(config.DEV_HMP_FEATURE, 'video10.txt')\n",
    "# read_features(filename)"
   ]
  },
  {
   "cell_type": "code",
   "execution_count": 14,
   "metadata": {},
   "outputs": [],
   "source": [
    "videos = []\n",
    "for video_filename in HMP_FILENAMES:\n",
    "    video_name = video_filename.split('.txt')[0] + '.webm'\n",
    "    video = read_features(os.path.join(config.DEV_HMP_FEATURE, video_filename))\n",
    "    video['video'] = video_name\n",
    "    videos.append(video)"
   ]
  },
  {
   "cell_type": "code",
   "execution_count": 15,
   "metadata": {},
   "outputs": [],
   "source": [
    "dataframe = pd.DataFrame(videos)"
   ]
  },
  {
   "cell_type": "code",
   "execution_count": 16,
   "metadata": {},
   "outputs": [
    {
     "data": {
      "text/html": [
       "<div>\n",
       "<style scoped>\n",
       "    .dataframe tbody tr th:only-of-type {\n",
       "        vertical-align: middle;\n",
       "    }\n",
       "\n",
       "    .dataframe tbody tr th {\n",
       "        vertical-align: top;\n",
       "    }\n",
       "\n",
       "    .dataframe thead th {\n",
       "        text-align: right;\n",
       "    }\n",
       "</style>\n",
       "<table border=\"1\" class=\"dataframe\">\n",
       "  <thead>\n",
       "    <tr style=\"text-align: right;\">\n",
       "      <th></th>\n",
       "      <th>HMP_1</th>\n",
       "      <th>HMP_2</th>\n",
       "      <th>HMP_3</th>\n",
       "      <th>HMP_5</th>\n",
       "      <th>HMP_6</th>\n",
       "      <th>HMP_14</th>\n",
       "      <th>HMP_41</th>\n",
       "      <th>HMP_42</th>\n",
       "      <th>HMP_45</th>\n",
       "      <th>HMP_81</th>\n",
       "      <th>...</th>\n",
       "      <th>HMP_512</th>\n",
       "      <th>HMP_2496</th>\n",
       "      <th>HMP_3464</th>\n",
       "      <th>HMP_4925</th>\n",
       "      <th>HMP_5412</th>\n",
       "      <th>HMP_4155</th>\n",
       "      <th>HMP_3386</th>\n",
       "      <th>HMP_5169</th>\n",
       "      <th>HMP_1037</th>\n",
       "      <th>HMP_714</th>\n",
       "    </tr>\n",
       "  </thead>\n",
       "  <tbody>\n",
       "    <tr>\n",
       "      <td>0</td>\n",
       "      <td>0.011948</td>\n",
       "      <td>0.002120</td>\n",
       "      <td>0.000035</td>\n",
       "      <td>0.000480</td>\n",
       "      <td>0.000007</td>\n",
       "      <td>0.000105</td>\n",
       "      <td>0.001593</td>\n",
       "      <td>0.000033</td>\n",
       "      <td>0.000009</td>\n",
       "      <td>0.000009</td>\n",
       "      <td>...</td>\n",
       "      <td>NaN</td>\n",
       "      <td>NaN</td>\n",
       "      <td>NaN</td>\n",
       "      <td>NaN</td>\n",
       "      <td>NaN</td>\n",
       "      <td>NaN</td>\n",
       "      <td>NaN</td>\n",
       "      <td>NaN</td>\n",
       "      <td>NaN</td>\n",
       "      <td>NaN</td>\n",
       "    </tr>\n",
       "    <tr>\n",
       "      <td>1</td>\n",
       "      <td>0.009193</td>\n",
       "      <td>0.002434</td>\n",
       "      <td>0.000103</td>\n",
       "      <td>0.001717</td>\n",
       "      <td>0.000092</td>\n",
       "      <td>0.000325</td>\n",
       "      <td>0.002110</td>\n",
       "      <td>0.000123</td>\n",
       "      <td>0.000073</td>\n",
       "      <td>0.000031</td>\n",
       "      <td>...</td>\n",
       "      <td>NaN</td>\n",
       "      <td>NaN</td>\n",
       "      <td>NaN</td>\n",
       "      <td>NaN</td>\n",
       "      <td>NaN</td>\n",
       "      <td>NaN</td>\n",
       "      <td>NaN</td>\n",
       "      <td>NaN</td>\n",
       "      <td>NaN</td>\n",
       "      <td>NaN</td>\n",
       "    </tr>\n",
       "    <tr>\n",
       "      <td>2</td>\n",
       "      <td>0.021569</td>\n",
       "      <td>0.003917</td>\n",
       "      <td>0.000047</td>\n",
       "      <td>0.001631</td>\n",
       "      <td>0.000025</td>\n",
       "      <td>0.000367</td>\n",
       "      <td>0.004189</td>\n",
       "      <td>0.000075</td>\n",
       "      <td>0.000025</td>\n",
       "      <td>0.000017</td>\n",
       "      <td>...</td>\n",
       "      <td>NaN</td>\n",
       "      <td>NaN</td>\n",
       "      <td>NaN</td>\n",
       "      <td>NaN</td>\n",
       "      <td>NaN</td>\n",
       "      <td>NaN</td>\n",
       "      <td>NaN</td>\n",
       "      <td>NaN</td>\n",
       "      <td>NaN</td>\n",
       "      <td>NaN</td>\n",
       "    </tr>\n",
       "    <tr>\n",
       "      <td>3</td>\n",
       "      <td>0.028669</td>\n",
       "      <td>0.007168</td>\n",
       "      <td>0.000138</td>\n",
       "      <td>0.003913</td>\n",
       "      <td>0.000100</td>\n",
       "      <td>0.000885</td>\n",
       "      <td>0.008479</td>\n",
       "      <td>0.000314</td>\n",
       "      <td>0.000145</td>\n",
       "      <td>0.000178</td>\n",
       "      <td>...</td>\n",
       "      <td>NaN</td>\n",
       "      <td>NaN</td>\n",
       "      <td>NaN</td>\n",
       "      <td>NaN</td>\n",
       "      <td>NaN</td>\n",
       "      <td>NaN</td>\n",
       "      <td>NaN</td>\n",
       "      <td>NaN</td>\n",
       "      <td>NaN</td>\n",
       "      <td>NaN</td>\n",
       "    </tr>\n",
       "    <tr>\n",
       "      <td>4</td>\n",
       "      <td>0.019578</td>\n",
       "      <td>0.005293</td>\n",
       "      <td>0.000123</td>\n",
       "      <td>0.003440</td>\n",
       "      <td>0.000132</td>\n",
       "      <td>0.000633</td>\n",
       "      <td>0.006047</td>\n",
       "      <td>0.000344</td>\n",
       "      <td>0.000342</td>\n",
       "      <td>0.000399</td>\n",
       "      <td>...</td>\n",
       "      <td>NaN</td>\n",
       "      <td>NaN</td>\n",
       "      <td>NaN</td>\n",
       "      <td>NaN</td>\n",
       "      <td>NaN</td>\n",
       "      <td>NaN</td>\n",
       "      <td>NaN</td>\n",
       "      <td>NaN</td>\n",
       "      <td>NaN</td>\n",
       "      <td>NaN</td>\n",
       "    </tr>\n",
       "  </tbody>\n",
       "</table>\n",
       "<p>5 rows × 4887 columns</p>\n",
       "</div>"
      ],
      "text/plain": [
       "      HMP_1     HMP_2     HMP_3     HMP_5     HMP_6    HMP_14    HMP_41  \\\n",
       "0  0.011948  0.002120  0.000035  0.000480  0.000007  0.000105  0.001593   \n",
       "1  0.009193  0.002434  0.000103  0.001717  0.000092  0.000325  0.002110   \n",
       "2  0.021569  0.003917  0.000047  0.001631  0.000025  0.000367  0.004189   \n",
       "3  0.028669  0.007168  0.000138  0.003913  0.000100  0.000885  0.008479   \n",
       "4  0.019578  0.005293  0.000123  0.003440  0.000132  0.000633  0.006047   \n",
       "\n",
       "     HMP_42    HMP_45    HMP_81  ...  HMP_512  HMP_2496  HMP_3464  HMP_4925  \\\n",
       "0  0.000033  0.000009  0.000009  ...      NaN       NaN       NaN       NaN   \n",
       "1  0.000123  0.000073  0.000031  ...      NaN       NaN       NaN       NaN   \n",
       "2  0.000075  0.000025  0.000017  ...      NaN       NaN       NaN       NaN   \n",
       "3  0.000314  0.000145  0.000178  ...      NaN       NaN       NaN       NaN   \n",
       "4  0.000344  0.000342  0.000399  ...      NaN       NaN       NaN       NaN   \n",
       "\n",
       "   HMP_5412  HMP_4155  HMP_3386  HMP_5169  HMP_1037  HMP_714  \n",
       "0       NaN       NaN       NaN       NaN       NaN      NaN  \n",
       "1       NaN       NaN       NaN       NaN       NaN      NaN  \n",
       "2       NaN       NaN       NaN       NaN       NaN      NaN  \n",
       "3       NaN       NaN       NaN       NaN       NaN      NaN  \n",
       "4       NaN       NaN       NaN       NaN       NaN      NaN  \n",
       "\n",
       "[5 rows x 4887 columns]"
      ]
     },
     "execution_count": 16,
     "metadata": {},
     "output_type": "execute_result"
    }
   ],
   "source": [
    "dataframe.head()"
   ]
  },
  {
   "cell_type": "code",
   "execution_count": 17,
   "metadata": {},
   "outputs": [
    {
     "data": {
      "text/plain": [
       "4880    0.000033\n",
       "Name: HMP_15, dtype: float64"
      ]
     },
     "execution_count": 17,
     "metadata": {},
     "output_type": "execute_result"
    }
   ],
   "source": [
    "dataframe[(dataframe['video'] == 'video12.webm')]['HMP_15']"
   ]
  },
  {
   "cell_type": "code",
   "execution_count": 18,
   "metadata": {},
   "outputs": [
    {
     "data": {
      "text/plain": [
       "4588"
      ]
     },
     "execution_count": 18,
     "metadata": {},
     "output_type": "execute_result"
    }
   ],
   "source": [
    "len(dataframe.columns[dataframe.isna().any()].tolist())"
   ]
  },
  {
   "cell_type": "code",
   "execution_count": 20,
   "metadata": {},
   "outputs": [
    {
     "data": {
      "text/plain": [
       "0"
      ]
     },
     "execution_count": 20,
     "metadata": {},
     "output_type": "execute_result"
    }
   ],
   "source": [
    "len(dataframe.columns[dataframe.isna().all()].tolist())"
   ]
  }
 ],
 "metadata": {
  "kernelspec": {
   "display_name": "Python 3",
   "language": "python",
   "name": "python3"
  },
  "language_info": {
   "codemirror_mode": {
    "name": "ipython",
    "version": 3
   },
   "file_extension": ".py",
   "mimetype": "text/x-python",
   "name": "python",
   "nbconvert_exporter": "python",
   "pygments_lexer": "ipython3",
   "version": "3.7.2"
  }
 },
 "nbformat": 4,
 "nbformat_minor": 2
}
