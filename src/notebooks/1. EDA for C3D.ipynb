{
 "cells": [
  {
   "cell_type": "markdown",
   "metadata": {},
   "source": [
    "# Exploratory Data Analysis for C3D"
   ]
  },
  {
   "cell_type": "markdown",
   "metadata": {},
   "source": [
    "Import libraries:"
   ]
  },
  {
   "cell_type": "code",
   "execution_count": 1,
   "metadata": {},
   "outputs": [],
   "source": [
    "import os\n",
    "import pandas as pd\n",
    "import numpy as np\n",
    "import matplotlib.pyplot as plt\n",
    "%matplotlib inline"
   ]
  },
  {
   "cell_type": "markdown",
   "metadata": {},
   "source": [
    "Some Matplotlib configuration:"
   ]
  },
  {
   "cell_type": "code",
   "execution_count": 2,
   "metadata": {},
   "outputs": [],
   "source": [
    "font = { 'family': 'DejaVu Sans', 'weight': 'bold', 'size': 22 }\n",
    "plt.rc('font', **font)"
   ]
  },
  {
   "cell_type": "code",
   "execution_count": 15,
   "metadata": {},
   "outputs": [],
   "source": [
    "import seaborn as sns"
   ]
  },
  {
   "cell_type": "markdown",
   "metadata": {},
   "source": [
    "Import the config file which contains all the paths:"
   ]
  },
  {
   "cell_type": "code",
   "execution_count": 3,
   "metadata": {},
   "outputs": [],
   "source": [
    "import sys"
   ]
  },
  {
   "cell_type": "code",
   "execution_count": 4,
   "metadata": {},
   "outputs": [],
   "source": [
    "sys.path.append('..')"
   ]
  },
  {
   "cell_type": "code",
   "execution_count": 5,
   "metadata": {},
   "outputs": [],
   "source": [
    "import config"
   ]
  },
  {
   "cell_type": "markdown",
   "metadata": {},
   "source": [
    "**C3D Features**"
   ]
  },
  {
   "cell_type": "code",
   "execution_count": 6,
   "metadata": {},
   "outputs": [
    {
     "data": {
      "text/plain": [
       "'/datasets/dev-set/features'"
      ]
     },
     "execution_count": 6,
     "metadata": {},
     "output_type": "execute_result"
    }
   ],
   "source": [
    "config.DEV_FEATURES"
   ]
  },
  {
   "cell_type": "code",
   "execution_count": 7,
   "metadata": {},
   "outputs": [
    {
     "data": {
      "text/plain": [
       "['C3D',\n",
       " 'HMP',\n",
       " 'InceptionV3',\n",
       " 'LBP',\n",
       " 'aesthetic_feat_dev-set_mean',\n",
       " 'ColorHistogram',\n",
       " 'HOG',\n",
       " 'ORB']"
      ]
     },
     "execution_count": 7,
     "metadata": {},
     "output_type": "execute_result"
    }
   ],
   "source": [
    "config.DEV_FEATURES_LIST"
   ]
  },
  {
   "cell_type": "code",
   "execution_count": 8,
   "metadata": {},
   "outputs": [
    {
     "data": {
      "text/plain": [
       "'/datasets/dev-set/features/C3D'"
      ]
     },
     "execution_count": 8,
     "metadata": {},
     "output_type": "execute_result"
    }
   ],
   "source": [
    "config.DEV_C3D_FEATURE"
   ]
  },
  {
   "cell_type": "code",
   "execution_count": 9,
   "metadata": {},
   "outputs": [],
   "source": [
    "C3D_FILENAMES = os.listdir(config.DEV_C3D_FEATURE)"
   ]
  },
  {
   "cell_type": "code",
   "execution_count": 10,
   "metadata": {},
   "outputs": [
    {
     "data": {
      "text/plain": [
       "['video3094.txt',\n",
       " 'video4963.txt',\n",
       " 'video5381.txt',\n",
       " 'video3388.txt',\n",
       " 'video6587.txt']"
      ]
     },
     "execution_count": 10,
     "metadata": {},
     "output_type": "execute_result"
    }
   ],
   "source": [
    "C3D_FILENAMES[:5]"
   ]
  },
  {
   "cell_type": "code",
   "execution_count": 11,
   "metadata": {},
   "outputs": [],
   "source": [
    "def read_features(filename):\n",
    "    with open(filename) as f:\n",
    "        return { 'C3D_{}'.format(i + 1) : float(feature) for i, feature in enumerate(f.read().split()) }"
   ]
  },
  {
   "cell_type": "code",
   "execution_count": 12,
   "metadata": {
    "scrolled": false
   },
   "outputs": [
    {
     "name": "stdout",
     "output_type": "stream",
     "text": [
      "CPU times: user 4.5 s, sys: 2.95 s, total: 7.45 s\n",
      "Wall time: 56.4 s\n"
     ]
    }
   ],
   "source": [
    "%%time\n",
    "\n",
    "features = []\n",
    "for i, video in enumerate(C3D_FILENAMES):\n",
    "    video_features = read_features(os.path.join(config.DEV_C3D_FEATURE, video))\n",
    "    video_features['video'] = video.split('.txt')[0] + '.webm'\n",
    "    features.append(video_features)"
   ]
  },
  {
   "cell_type": "code",
   "execution_count": 13,
   "metadata": {},
   "outputs": [],
   "source": [
    "dataframe = pd.DataFrame(features)"
   ]
  },
  {
   "cell_type": "code",
   "execution_count": 14,
   "metadata": {},
   "outputs": [
    {
     "data": {
      "text/html": [
       "<div>\n",
       "<style scoped>\n",
       "    .dataframe tbody tr th:only-of-type {\n",
       "        vertical-align: middle;\n",
       "    }\n",
       "\n",
       "    .dataframe tbody tr th {\n",
       "        vertical-align: top;\n",
       "    }\n",
       "\n",
       "    .dataframe thead th {\n",
       "        text-align: right;\n",
       "    }\n",
       "</style>\n",
       "<table border=\"1\" class=\"dataframe\">\n",
       "  <thead>\n",
       "    <tr style=\"text-align: right;\">\n",
       "      <th></th>\n",
       "      <th>C3D_1</th>\n",
       "      <th>C3D_10</th>\n",
       "      <th>C3D_100</th>\n",
       "      <th>C3D_101</th>\n",
       "      <th>C3D_11</th>\n",
       "      <th>C3D_12</th>\n",
       "      <th>C3D_13</th>\n",
       "      <th>C3D_14</th>\n",
       "      <th>C3D_15</th>\n",
       "      <th>C3D_16</th>\n",
       "      <th>...</th>\n",
       "      <th>C3D_91</th>\n",
       "      <th>C3D_92</th>\n",
       "      <th>C3D_93</th>\n",
       "      <th>C3D_94</th>\n",
       "      <th>C3D_95</th>\n",
       "      <th>C3D_96</th>\n",
       "      <th>C3D_97</th>\n",
       "      <th>C3D_98</th>\n",
       "      <th>C3D_99</th>\n",
       "      <th>video</th>\n",
       "    </tr>\n",
       "  </thead>\n",
       "  <tbody>\n",
       "    <tr>\n",
       "      <th>0</th>\n",
       "      <td>0.000043</td>\n",
       "      <td>5.900000e-07</td>\n",
       "      <td>0.000025</td>\n",
       "      <td>0.000005</td>\n",
       "      <td>0.000003</td>\n",
       "      <td>0.000001</td>\n",
       "      <td>0.000020</td>\n",
       "      <td>0.000213</td>\n",
       "      <td>6.000000e-08</td>\n",
       "      <td>0.000039</td>\n",
       "      <td>...</td>\n",
       "      <td>0.000003</td>\n",
       "      <td>0.000029</td>\n",
       "      <td>8.300000e-07</td>\n",
       "      <td>1.200000e-07</td>\n",
       "      <td>0.002093</td>\n",
       "      <td>8.600000e-07</td>\n",
       "      <td>2.000000e-08</td>\n",
       "      <td>6.000000e-07</td>\n",
       "      <td>0.000029</td>\n",
       "      <td>video3094.webm</td>\n",
       "    </tr>\n",
       "    <tr>\n",
       "      <th>1</th>\n",
       "      <td>0.047568</td>\n",
       "      <td>3.858900e-04</td>\n",
       "      <td>0.019331</td>\n",
       "      <td>0.002406</td>\n",
       "      <td>0.000118</td>\n",
       "      <td>0.000026</td>\n",
       "      <td>0.004285</td>\n",
       "      <td>0.001830</td>\n",
       "      <td>8.987000e-05</td>\n",
       "      <td>0.000675</td>\n",
       "      <td>...</td>\n",
       "      <td>0.000221</td>\n",
       "      <td>0.003660</td>\n",
       "      <td>7.387400e-04</td>\n",
       "      <td>4.220000e-06</td>\n",
       "      <td>0.043334</td>\n",
       "      <td>1.249700e-04</td>\n",
       "      <td>3.171000e-05</td>\n",
       "      <td>7.573000e-05</td>\n",
       "      <td>0.010475</td>\n",
       "      <td>video4963.webm</td>\n",
       "    </tr>\n",
       "    <tr>\n",
       "      <th>2</th>\n",
       "      <td>0.144726</td>\n",
       "      <td>2.060000e-05</td>\n",
       "      <td>0.000331</td>\n",
       "      <td>0.000445</td>\n",
       "      <td>0.000064</td>\n",
       "      <td>0.000282</td>\n",
       "      <td>0.000137</td>\n",
       "      <td>0.002320</td>\n",
       "      <td>8.500000e-07</td>\n",
       "      <td>0.000201</td>\n",
       "      <td>...</td>\n",
       "      <td>0.000285</td>\n",
       "      <td>0.000191</td>\n",
       "      <td>2.389000e-05</td>\n",
       "      <td>8.000000e-07</td>\n",
       "      <td>0.001503</td>\n",
       "      <td>6.236000e-05</td>\n",
       "      <td>3.280000e-06</td>\n",
       "      <td>9.490000e-06</td>\n",
       "      <td>0.000019</td>\n",
       "      <td>video5381.webm</td>\n",
       "    </tr>\n",
       "    <tr>\n",
       "      <th>3</th>\n",
       "      <td>0.221757</td>\n",
       "      <td>2.511400e-04</td>\n",
       "      <td>0.000719</td>\n",
       "      <td>0.005072</td>\n",
       "      <td>0.000382</td>\n",
       "      <td>0.007093</td>\n",
       "      <td>0.010733</td>\n",
       "      <td>0.012519</td>\n",
       "      <td>1.789000e-05</td>\n",
       "      <td>0.000469</td>\n",
       "      <td>...</td>\n",
       "      <td>0.001697</td>\n",
       "      <td>0.001409</td>\n",
       "      <td>1.413500e-04</td>\n",
       "      <td>2.670800e-04</td>\n",
       "      <td>0.007757</td>\n",
       "      <td>9.373000e-05</td>\n",
       "      <td>8.385000e-05</td>\n",
       "      <td>6.237800e-04</td>\n",
       "      <td>0.000083</td>\n",
       "      <td>video3388.webm</td>\n",
       "    </tr>\n",
       "    <tr>\n",
       "      <th>4</th>\n",
       "      <td>0.000761</td>\n",
       "      <td>1.639480e-03</td>\n",
       "      <td>0.000026</td>\n",
       "      <td>0.000478</td>\n",
       "      <td>0.000012</td>\n",
       "      <td>0.000003</td>\n",
       "      <td>0.000834</td>\n",
       "      <td>0.068154</td>\n",
       "      <td>9.230000e-06</td>\n",
       "      <td>0.000027</td>\n",
       "      <td>...</td>\n",
       "      <td>0.000005</td>\n",
       "      <td>0.000009</td>\n",
       "      <td>3.200000e-07</td>\n",
       "      <td>5.040000e-06</td>\n",
       "      <td>0.000220</td>\n",
       "      <td>3.130000e-06</td>\n",
       "      <td>4.700000e-07</td>\n",
       "      <td>6.900000e-07</td>\n",
       "      <td>0.000013</td>\n",
       "      <td>video6587.webm</td>\n",
       "    </tr>\n",
       "  </tbody>\n",
       "</table>\n",
       "<p>5 rows × 102 columns</p>\n",
       "</div>"
      ],
      "text/plain": [
       "      C3D_1        C3D_10   C3D_100   C3D_101    C3D_11    C3D_12    C3D_13  \\\n",
       "0  0.000043  5.900000e-07  0.000025  0.000005  0.000003  0.000001  0.000020   \n",
       "1  0.047568  3.858900e-04  0.019331  0.002406  0.000118  0.000026  0.004285   \n",
       "2  0.144726  2.060000e-05  0.000331  0.000445  0.000064  0.000282  0.000137   \n",
       "3  0.221757  2.511400e-04  0.000719  0.005072  0.000382  0.007093  0.010733   \n",
       "4  0.000761  1.639480e-03  0.000026  0.000478  0.000012  0.000003  0.000834   \n",
       "\n",
       "     C3D_14        C3D_15    C3D_16  ...    C3D_91    C3D_92        C3D_93  \\\n",
       "0  0.000213  6.000000e-08  0.000039  ...  0.000003  0.000029  8.300000e-07   \n",
       "1  0.001830  8.987000e-05  0.000675  ...  0.000221  0.003660  7.387400e-04   \n",
       "2  0.002320  8.500000e-07  0.000201  ...  0.000285  0.000191  2.389000e-05   \n",
       "3  0.012519  1.789000e-05  0.000469  ...  0.001697  0.001409  1.413500e-04   \n",
       "4  0.068154  9.230000e-06  0.000027  ...  0.000005  0.000009  3.200000e-07   \n",
       "\n",
       "         C3D_94    C3D_95        C3D_96        C3D_97        C3D_98    C3D_99  \\\n",
       "0  1.200000e-07  0.002093  8.600000e-07  2.000000e-08  6.000000e-07  0.000029   \n",
       "1  4.220000e-06  0.043334  1.249700e-04  3.171000e-05  7.573000e-05  0.010475   \n",
       "2  8.000000e-07  0.001503  6.236000e-05  3.280000e-06  9.490000e-06  0.000019   \n",
       "3  2.670800e-04  0.007757  9.373000e-05  8.385000e-05  6.237800e-04  0.000083   \n",
       "4  5.040000e-06  0.000220  3.130000e-06  4.700000e-07  6.900000e-07  0.000013   \n",
       "\n",
       "            video  \n",
       "0  video3094.webm  \n",
       "1  video4963.webm  \n",
       "2  video5381.webm  \n",
       "3  video3388.webm  \n",
       "4  video6587.webm  \n",
       "\n",
       "[5 rows x 102 columns]"
      ]
     },
     "execution_count": 14,
     "metadata": {},
     "output_type": "execute_result"
    }
   ],
   "source": [
    "dataframe.head()"
   ]
  },
  {
   "cell_type": "code",
   "execution_count": 16,
   "metadata": {},
   "outputs": [
    {
     "data": {
      "text/plain": [
       "False"
      ]
     },
     "execution_count": 16,
     "metadata": {},
     "output_type": "execute_result"
    }
   ],
   "source": [
    "dataframe.isnull().values.any()"
   ]
  },
  {
   "cell_type": "markdown",
   "metadata": {},
   "source": [
    "**Groundtruth**"
   ]
  },
  {
   "cell_type": "code",
   "execution_count": 17,
   "metadata": {},
   "outputs": [],
   "source": [
    "dev_ground_truth = pd.read_csv(config.DEV_GROUNDTRUTH) "
   ]
  },
  {
   "cell_type": "code",
   "execution_count": 18,
   "metadata": {
    "scrolled": true
   },
   "outputs": [
    {
     "data": {
      "text/html": [
       "<div>\n",
       "<style scoped>\n",
       "    .dataframe tbody tr th:only-of-type {\n",
       "        vertical-align: middle;\n",
       "    }\n",
       "\n",
       "    .dataframe tbody tr th {\n",
       "        vertical-align: top;\n",
       "    }\n",
       "\n",
       "    .dataframe thead th {\n",
       "        text-align: right;\n",
       "    }\n",
       "</style>\n",
       "<table border=\"1\" class=\"dataframe\">\n",
       "  <thead>\n",
       "    <tr style=\"text-align: right;\">\n",
       "      <th></th>\n",
       "      <th>video</th>\n",
       "      <th>short-term_memorability</th>\n",
       "      <th>nb_short-term_annotations</th>\n",
       "      <th>long-term_memorability</th>\n",
       "      <th>nb_long-term_annotations</th>\n",
       "    </tr>\n",
       "  </thead>\n",
       "  <tbody>\n",
       "    <tr>\n",
       "      <th>0</th>\n",
       "      <td>video10.webm</td>\n",
       "      <td>0.950</td>\n",
       "      <td>34</td>\n",
       "      <td>0.900</td>\n",
       "      <td>10</td>\n",
       "    </tr>\n",
       "    <tr>\n",
       "      <th>1</th>\n",
       "      <td>video100.webm</td>\n",
       "      <td>0.951</td>\n",
       "      <td>33</td>\n",
       "      <td>0.889</td>\n",
       "      <td>9</td>\n",
       "    </tr>\n",
       "    <tr>\n",
       "      <th>2</th>\n",
       "      <td>video10000.webm</td>\n",
       "      <td>0.832</td>\n",
       "      <td>33</td>\n",
       "      <td>1.000</td>\n",
       "      <td>13</td>\n",
       "    </tr>\n",
       "    <tr>\n",
       "      <th>3</th>\n",
       "      <td>video10001.webm</td>\n",
       "      <td>0.865</td>\n",
       "      <td>33</td>\n",
       "      <td>0.727</td>\n",
       "      <td>11</td>\n",
       "    </tr>\n",
       "    <tr>\n",
       "      <th>4</th>\n",
       "      <td>video10002.webm</td>\n",
       "      <td>0.899</td>\n",
       "      <td>59</td>\n",
       "      <td>0.792</td>\n",
       "      <td>24</td>\n",
       "    </tr>\n",
       "  </tbody>\n",
       "</table>\n",
       "</div>"
      ],
      "text/plain": [
       "             video  short-term_memorability  nb_short-term_annotations  \\\n",
       "0     video10.webm                    0.950                         34   \n",
       "1    video100.webm                    0.951                         33   \n",
       "2  video10000.webm                    0.832                         33   \n",
       "3  video10001.webm                    0.865                         33   \n",
       "4  video10002.webm                    0.899                         59   \n",
       "\n",
       "   long-term_memorability  nb_long-term_annotations  \n",
       "0                   0.900                        10  \n",
       "1                   0.889                         9  \n",
       "2                   1.000                        13  \n",
       "3                   0.727                        11  \n",
       "4                   0.792                        24  "
      ]
     },
     "execution_count": 18,
     "metadata": {},
     "output_type": "execute_result"
    }
   ],
   "source": [
    "dev_ground_truth.head()"
   ]
  },
  {
   "cell_type": "markdown",
   "metadata": {},
   "source": [
    "Merging both datasets:"
   ]
  },
  {
   "cell_type": "code",
   "execution_count": 19,
   "metadata": {},
   "outputs": [],
   "source": [
    "dataframe = dataframe.merge(dev_ground_truth)"
   ]
  },
  {
   "cell_type": "code",
   "execution_count": 20,
   "metadata": {},
   "outputs": [
    {
     "data": {
      "text/html": [
       "<div>\n",
       "<style scoped>\n",
       "    .dataframe tbody tr th:only-of-type {\n",
       "        vertical-align: middle;\n",
       "    }\n",
       "\n",
       "    .dataframe tbody tr th {\n",
       "        vertical-align: top;\n",
       "    }\n",
       "\n",
       "    .dataframe thead th {\n",
       "        text-align: right;\n",
       "    }\n",
       "</style>\n",
       "<table border=\"1\" class=\"dataframe\">\n",
       "  <thead>\n",
       "    <tr style=\"text-align: right;\">\n",
       "      <th></th>\n",
       "      <th>C3D_1</th>\n",
       "      <th>C3D_10</th>\n",
       "      <th>C3D_100</th>\n",
       "      <th>C3D_101</th>\n",
       "      <th>C3D_11</th>\n",
       "      <th>C3D_12</th>\n",
       "      <th>C3D_13</th>\n",
       "      <th>C3D_14</th>\n",
       "      <th>C3D_15</th>\n",
       "      <th>C3D_16</th>\n",
       "      <th>...</th>\n",
       "      <th>C3D_95</th>\n",
       "      <th>C3D_96</th>\n",
       "      <th>C3D_97</th>\n",
       "      <th>C3D_98</th>\n",
       "      <th>C3D_99</th>\n",
       "      <th>video</th>\n",
       "      <th>short-term_memorability</th>\n",
       "      <th>nb_short-term_annotations</th>\n",
       "      <th>long-term_memorability</th>\n",
       "      <th>nb_long-term_annotations</th>\n",
       "    </tr>\n",
       "  </thead>\n",
       "  <tbody>\n",
       "    <tr>\n",
       "      <th>0</th>\n",
       "      <td>0.000043</td>\n",
       "      <td>5.900000e-07</td>\n",
       "      <td>0.000025</td>\n",
       "      <td>0.000005</td>\n",
       "      <td>0.000003</td>\n",
       "      <td>0.000001</td>\n",
       "      <td>0.000020</td>\n",
       "      <td>0.000213</td>\n",
       "      <td>6.000000e-08</td>\n",
       "      <td>0.000039</td>\n",
       "      <td>...</td>\n",
       "      <td>0.002093</td>\n",
       "      <td>8.600000e-07</td>\n",
       "      <td>2.000000e-08</td>\n",
       "      <td>6.000000e-07</td>\n",
       "      <td>0.000029</td>\n",
       "      <td>video3094.webm</td>\n",
       "      <td>0.955</td>\n",
       "      <td>37</td>\n",
       "      <td>0.917</td>\n",
       "      <td>12</td>\n",
       "    </tr>\n",
       "    <tr>\n",
       "      <th>1</th>\n",
       "      <td>0.047568</td>\n",
       "      <td>3.858900e-04</td>\n",
       "      <td>0.019331</td>\n",
       "      <td>0.002406</td>\n",
       "      <td>0.000118</td>\n",
       "      <td>0.000026</td>\n",
       "      <td>0.004285</td>\n",
       "      <td>0.001830</td>\n",
       "      <td>8.987000e-05</td>\n",
       "      <td>0.000675</td>\n",
       "      <td>...</td>\n",
       "      <td>0.043334</td>\n",
       "      <td>1.249700e-04</td>\n",
       "      <td>3.171000e-05</td>\n",
       "      <td>7.573000e-05</td>\n",
       "      <td>0.010475</td>\n",
       "      <td>video4963.webm</td>\n",
       "      <td>0.746</td>\n",
       "      <td>33</td>\n",
       "      <td>0.700</td>\n",
       "      <td>10</td>\n",
       "    </tr>\n",
       "    <tr>\n",
       "      <th>2</th>\n",
       "      <td>0.144726</td>\n",
       "      <td>2.060000e-05</td>\n",
       "      <td>0.000331</td>\n",
       "      <td>0.000445</td>\n",
       "      <td>0.000064</td>\n",
       "      <td>0.000282</td>\n",
       "      <td>0.000137</td>\n",
       "      <td>0.002320</td>\n",
       "      <td>8.500000e-07</td>\n",
       "      <td>0.000201</td>\n",
       "      <td>...</td>\n",
       "      <td>0.001503</td>\n",
       "      <td>6.236000e-05</td>\n",
       "      <td>3.280000e-06</td>\n",
       "      <td>9.490000e-06</td>\n",
       "      <td>0.000019</td>\n",
       "      <td>video5381.webm</td>\n",
       "      <td>0.956</td>\n",
       "      <td>34</td>\n",
       "      <td>0.750</td>\n",
       "      <td>12</td>\n",
       "    </tr>\n",
       "    <tr>\n",
       "      <th>3</th>\n",
       "      <td>0.221757</td>\n",
       "      <td>2.511400e-04</td>\n",
       "      <td>0.000719</td>\n",
       "      <td>0.005072</td>\n",
       "      <td>0.000382</td>\n",
       "      <td>0.007093</td>\n",
       "      <td>0.010733</td>\n",
       "      <td>0.012519</td>\n",
       "      <td>1.789000e-05</td>\n",
       "      <td>0.000469</td>\n",
       "      <td>...</td>\n",
       "      <td>0.007757</td>\n",
       "      <td>9.373000e-05</td>\n",
       "      <td>8.385000e-05</td>\n",
       "      <td>6.237800e-04</td>\n",
       "      <td>0.000083</td>\n",
       "      <td>video3388.webm</td>\n",
       "      <td>0.820</td>\n",
       "      <td>37</td>\n",
       "      <td>0.818</td>\n",
       "      <td>11</td>\n",
       "    </tr>\n",
       "    <tr>\n",
       "      <th>4</th>\n",
       "      <td>0.000761</td>\n",
       "      <td>1.639480e-03</td>\n",
       "      <td>0.000026</td>\n",
       "      <td>0.000478</td>\n",
       "      <td>0.000012</td>\n",
       "      <td>0.000003</td>\n",
       "      <td>0.000834</td>\n",
       "      <td>0.068154</td>\n",
       "      <td>9.230000e-06</td>\n",
       "      <td>0.000027</td>\n",
       "      <td>...</td>\n",
       "      <td>0.000220</td>\n",
       "      <td>3.130000e-06</td>\n",
       "      <td>4.700000e-07</td>\n",
       "      <td>6.900000e-07</td>\n",
       "      <td>0.000013</td>\n",
       "      <td>video6587.webm</td>\n",
       "      <td>0.858</td>\n",
       "      <td>32</td>\n",
       "      <td>0.750</td>\n",
       "      <td>12</td>\n",
       "    </tr>\n",
       "  </tbody>\n",
       "</table>\n",
       "<p>5 rows × 106 columns</p>\n",
       "</div>"
      ],
      "text/plain": [
       "      C3D_1        C3D_10   C3D_100   C3D_101    C3D_11    C3D_12    C3D_13  \\\n",
       "0  0.000043  5.900000e-07  0.000025  0.000005  0.000003  0.000001  0.000020   \n",
       "1  0.047568  3.858900e-04  0.019331  0.002406  0.000118  0.000026  0.004285   \n",
       "2  0.144726  2.060000e-05  0.000331  0.000445  0.000064  0.000282  0.000137   \n",
       "3  0.221757  2.511400e-04  0.000719  0.005072  0.000382  0.007093  0.010733   \n",
       "4  0.000761  1.639480e-03  0.000026  0.000478  0.000012  0.000003  0.000834   \n",
       "\n",
       "     C3D_14        C3D_15    C3D_16  ...    C3D_95        C3D_96  \\\n",
       "0  0.000213  6.000000e-08  0.000039  ...  0.002093  8.600000e-07   \n",
       "1  0.001830  8.987000e-05  0.000675  ...  0.043334  1.249700e-04   \n",
       "2  0.002320  8.500000e-07  0.000201  ...  0.001503  6.236000e-05   \n",
       "3  0.012519  1.789000e-05  0.000469  ...  0.007757  9.373000e-05   \n",
       "4  0.068154  9.230000e-06  0.000027  ...  0.000220  3.130000e-06   \n",
       "\n",
       "         C3D_97        C3D_98    C3D_99           video  \\\n",
       "0  2.000000e-08  6.000000e-07  0.000029  video3094.webm   \n",
       "1  3.171000e-05  7.573000e-05  0.010475  video4963.webm   \n",
       "2  3.280000e-06  9.490000e-06  0.000019  video5381.webm   \n",
       "3  8.385000e-05  6.237800e-04  0.000083  video3388.webm   \n",
       "4  4.700000e-07  6.900000e-07  0.000013  video6587.webm   \n",
       "\n",
       "   short-term_memorability  nb_short-term_annotations  long-term_memorability  \\\n",
       "0                    0.955                         37                   0.917   \n",
       "1                    0.746                         33                   0.700   \n",
       "2                    0.956                         34                   0.750   \n",
       "3                    0.820                         37                   0.818   \n",
       "4                    0.858                         32                   0.750   \n",
       "\n",
       "   nb_long-term_annotations  \n",
       "0                        12  \n",
       "1                        10  \n",
       "2                        12  \n",
       "3                        11  \n",
       "4                        12  \n",
       "\n",
       "[5 rows x 106 columns]"
      ]
     },
     "execution_count": 20,
     "metadata": {},
     "output_type": "execute_result"
    }
   ],
   "source": [
    "dataframe.head()"
   ]
  },
  {
   "cell_type": "code",
   "execution_count": 21,
   "metadata": {},
   "outputs": [],
   "source": [
    "C3D_COLS = dataframe.filter(regex='C3D').columns"
   ]
  },
  {
   "cell_type": "code",
   "execution_count": 22,
   "metadata": {},
   "outputs": [],
   "source": [
    "from scipy.stats import spearmanr"
   ]
  },
  {
   "cell_type": "code",
   "execution_count": 23,
   "metadata": {},
   "outputs": [],
   "source": [
    "correlations = []\n",
    "for col in C3D_COLS:\n",
    "    short_corr, short_p_value = spearmanr(dataframe[col], dataframe['short-term_memorability'])\n",
    "    long_corr, long_p_value = spearmanr(dataframe[col], dataframe['long-term_memorability'])\n",
    "    correlations.append({\n",
    "        'column': col,\n",
    "        'short-term correlation coefficient': short_corr,\n",
    "        'short-term p-value': short_p_value,\n",
    "        'long-term correlation coefficient': long_corr,\n",
    "        'long-term p-value': long_p_value,\n",
    "    })"
   ]
  },
  {
   "cell_type": "code",
   "execution_count": 27,
   "metadata": {},
   "outputs": [
    {
     "data": {
      "text/html": [
       "<div>\n",
       "<style scoped>\n",
       "    .dataframe tbody tr th:only-of-type {\n",
       "        vertical-align: middle;\n",
       "    }\n",
       "\n",
       "    .dataframe tbody tr th {\n",
       "        vertical-align: top;\n",
       "    }\n",
       "\n",
       "    .dataframe thead th {\n",
       "        text-align: right;\n",
       "    }\n",
       "</style>\n",
       "<table border=\"1\" class=\"dataframe\">\n",
       "  <thead>\n",
       "    <tr style=\"text-align: right;\">\n",
       "      <th></th>\n",
       "      <th>column</th>\n",
       "      <th>short-term correlation coefficient</th>\n",
       "      <th>short-term p-value</th>\n",
       "    </tr>\n",
       "  </thead>\n",
       "  <tbody>\n",
       "    <tr>\n",
       "      <th>0</th>\n",
       "      <td>C3D_1</td>\n",
       "      <td>0.191836</td>\n",
       "      <td>3.518843e-67</td>\n",
       "    </tr>\n",
       "    <tr>\n",
       "      <th>61</th>\n",
       "      <td>C3D_63</td>\n",
       "      <td>0.161048</td>\n",
       "      <td>1.264062e-47</td>\n",
       "    </tr>\n",
       "    <tr>\n",
       "      <th>29</th>\n",
       "      <td>C3D_34</td>\n",
       "      <td>0.159411</td>\n",
       "      <td>1.100879e-46</td>\n",
       "    </tr>\n",
       "    <tr>\n",
       "      <th>13</th>\n",
       "      <td>C3D_2</td>\n",
       "      <td>0.115026</td>\n",
       "      <td>5.670003e-25</td>\n",
       "    </tr>\n",
       "    <tr>\n",
       "      <th>6</th>\n",
       "      <td>C3D_13</td>\n",
       "      <td>0.109143</td>\n",
       "      <td>1.245734e-22</td>\n",
       "    </tr>\n",
       "    <tr>\n",
       "      <th>60</th>\n",
       "      <td>C3D_62</td>\n",
       "      <td>0.106035</td>\n",
       "      <td>1.917365e-21</td>\n",
       "    </tr>\n",
       "    <tr>\n",
       "      <th>100</th>\n",
       "      <td>C3D_99</td>\n",
       "      <td>0.097915</td>\n",
       "      <td>1.671315e-18</td>\n",
       "    </tr>\n",
       "    <tr>\n",
       "      <th>14</th>\n",
       "      <td>C3D_20</td>\n",
       "      <td>0.094951</td>\n",
       "      <td>1.730478e-17</td>\n",
       "    </tr>\n",
       "    <tr>\n",
       "      <th>56</th>\n",
       "      <td>C3D_59</td>\n",
       "      <td>0.085681</td>\n",
       "      <td>1.634866e-14</td>\n",
       "    </tr>\n",
       "    <tr>\n",
       "      <th>77</th>\n",
       "      <td>C3D_78</td>\n",
       "      <td>0.083836</td>\n",
       "      <td>5.885564e-14</td>\n",
       "    </tr>\n",
       "  </tbody>\n",
       "</table>\n",
       "</div>"
      ],
      "text/plain": [
       "     column  short-term correlation coefficient  short-term p-value\n",
       "0     C3D_1                            0.191836        3.518843e-67\n",
       "61   C3D_63                            0.161048        1.264062e-47\n",
       "29   C3D_34                            0.159411        1.100879e-46\n",
       "13    C3D_2                            0.115026        5.670003e-25\n",
       "6    C3D_13                            0.109143        1.245734e-22\n",
       "60   C3D_62                            0.106035        1.917365e-21\n",
       "100  C3D_99                            0.097915        1.671315e-18\n",
       "14   C3D_20                            0.094951        1.730478e-17\n",
       "56   C3D_59                            0.085681        1.634866e-14\n",
       "77   C3D_78                            0.083836        5.885564e-14"
      ]
     },
     "execution_count": 27,
     "metadata": {},
     "output_type": "execute_result"
    }
   ],
   "source": [
    "pd.DataFrame(correlations).sort_values(by='short-term correlation coefficient', ascending=False).head(10)[\n",
    "    ['column', 'short-term correlation coefficient', 'short-term p-value']]"
   ]
  },
  {
   "cell_type": "code",
   "execution_count": 28,
   "metadata": {},
   "outputs": [
    {
     "data": {
      "text/html": [
       "<div>\n",
       "<style scoped>\n",
       "    .dataframe tbody tr th:only-of-type {\n",
       "        vertical-align: middle;\n",
       "    }\n",
       "\n",
       "    .dataframe tbody tr th {\n",
       "        vertical-align: top;\n",
       "    }\n",
       "\n",
       "    .dataframe thead th {\n",
       "        text-align: right;\n",
       "    }\n",
       "</style>\n",
       "<table border=\"1\" class=\"dataframe\">\n",
       "  <thead>\n",
       "    <tr style=\"text-align: right;\">\n",
       "      <th></th>\n",
       "      <th>column</th>\n",
       "      <th>long-term correlation coefficient</th>\n",
       "      <th>long-term p-value</th>\n",
       "    </tr>\n",
       "  </thead>\n",
       "  <tbody>\n",
       "    <tr>\n",
       "      <th>0</th>\n",
       "      <td>C3D_1</td>\n",
       "      <td>0.101888</td>\n",
       "      <td>6.510083e-20</td>\n",
       "    </tr>\n",
       "    <tr>\n",
       "      <th>61</th>\n",
       "      <td>C3D_63</td>\n",
       "      <td>0.081693</td>\n",
       "      <td>2.517438e-13</td>\n",
       "    </tr>\n",
       "    <tr>\n",
       "      <th>29</th>\n",
       "      <td>C3D_34</td>\n",
       "      <td>0.079401</td>\n",
       "      <td>1.144120e-12</td>\n",
       "    </tr>\n",
       "    <tr>\n",
       "      <th>60</th>\n",
       "      <td>C3D_62</td>\n",
       "      <td>0.075129</td>\n",
       "      <td>1.718111e-11</td>\n",
       "    </tr>\n",
       "    <tr>\n",
       "      <th>56</th>\n",
       "      <td>C3D_59</td>\n",
       "      <td>0.068542</td>\n",
       "      <td>8.416292e-10</td>\n",
       "    </tr>\n",
       "    <tr>\n",
       "      <th>6</th>\n",
       "      <td>C3D_13</td>\n",
       "      <td>0.063464</td>\n",
       "      <td>1.337450e-08</td>\n",
       "    </tr>\n",
       "    <tr>\n",
       "      <th>13</th>\n",
       "      <td>C3D_2</td>\n",
       "      <td>0.061547</td>\n",
       "      <td>3.602865e-08</td>\n",
       "    </tr>\n",
       "    <tr>\n",
       "      <th>100</th>\n",
       "      <td>C3D_99</td>\n",
       "      <td>0.057021</td>\n",
       "      <td>3.335575e-07</td>\n",
       "    </tr>\n",
       "    <tr>\n",
       "      <th>63</th>\n",
       "      <td>C3D_65</td>\n",
       "      <td>0.052131</td>\n",
       "      <td>3.083902e-06</td>\n",
       "    </tr>\n",
       "    <tr>\n",
       "      <th>14</th>\n",
       "      <td>C3D_20</td>\n",
       "      <td>0.037099</td>\n",
       "      <td>9.039205e-04</td>\n",
       "    </tr>\n",
       "  </tbody>\n",
       "</table>\n",
       "</div>"
      ],
      "text/plain": [
       "     column  long-term correlation coefficient  long-term p-value\n",
       "0     C3D_1                           0.101888       6.510083e-20\n",
       "61   C3D_63                           0.081693       2.517438e-13\n",
       "29   C3D_34                           0.079401       1.144120e-12\n",
       "60   C3D_62                           0.075129       1.718111e-11\n",
       "56   C3D_59                           0.068542       8.416292e-10\n",
       "6    C3D_13                           0.063464       1.337450e-08\n",
       "13    C3D_2                           0.061547       3.602865e-08\n",
       "100  C3D_99                           0.057021       3.335575e-07\n",
       "63   C3D_65                           0.052131       3.083902e-06\n",
       "14   C3D_20                           0.037099       9.039205e-04"
      ]
     },
     "execution_count": 28,
     "metadata": {},
     "output_type": "execute_result"
    }
   ],
   "source": [
    "pd.DataFrame(correlations).sort_values(by='long-term correlation coefficient', ascending=False).head(10)[\n",
    "    ['column', 'long-term correlation coefficient', 'long-term p-value']]"
   ]
  },
  {
   "cell_type": "code",
   "execution_count": null,
   "metadata": {},
   "outputs": [],
   "source": []
  }
 ],
 "metadata": {
  "kernelspec": {
   "display_name": "Python 3",
   "language": "python",
   "name": "python3"
  },
  "language_info": {
   "codemirror_mode": {
    "name": "ipython",
    "version": 3
   },
   "file_extension": ".py",
   "mimetype": "text/x-python",
   "name": "python",
   "nbconvert_exporter": "python",
   "pygments_lexer": "ipython3",
   "version": "3.5.2"
  }
 },
 "nbformat": 4,
 "nbformat_minor": 2
}
